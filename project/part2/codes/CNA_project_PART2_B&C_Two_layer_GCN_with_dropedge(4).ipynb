{
  "cells": [
    {
      "cell_type": "markdown",
      "metadata": {
        "id": "kUUR_gyjC-WF"
      },
      "source": [
        "# **Load Dataset**"
      ]
    },
    {
      "cell_type": "code",
      "execution_count": 44,
      "metadata": {
        "colab": {
          "base_uri": "https://localhost:8080/"
        },
        "id": "atwKCgdFC-WH",
        "outputId": "2b6c601e-91e9-4a0e-8e09-b97d60893a20"
      },
      "outputs": [
        {
          "output_type": "stream",
          "name": "stdout",
          "text": [
            "Requirement already satisfied: torch in /usr/local/lib/python3.10/dist-packages (2.1.0+cu121)\n",
            "Requirement already satisfied: torchvision in /usr/local/lib/python3.10/dist-packages (0.16.0+cu121)\n",
            "Requirement already satisfied: filelock in /usr/local/lib/python3.10/dist-packages (from torch) (3.13.1)\n",
            "Requirement already satisfied: typing-extensions in /usr/local/lib/python3.10/dist-packages (from torch) (4.9.0)\n",
            "Requirement already satisfied: sympy in /usr/local/lib/python3.10/dist-packages (from torch) (1.12)\n",
            "Requirement already satisfied: networkx in /usr/local/lib/python3.10/dist-packages (from torch) (3.2.1)\n",
            "Requirement already satisfied: jinja2 in /usr/local/lib/python3.10/dist-packages (from torch) (3.1.3)\n",
            "Requirement already satisfied: fsspec in /usr/local/lib/python3.10/dist-packages (from torch) (2023.6.0)\n",
            "Requirement already satisfied: triton==2.1.0 in /usr/local/lib/python3.10/dist-packages (from torch) (2.1.0)\n",
            "Requirement already satisfied: numpy in /usr/local/lib/python3.10/dist-packages (from torchvision) (1.25.2)\n",
            "Requirement already satisfied: requests in /usr/local/lib/python3.10/dist-packages (from torchvision) (2.31.0)\n",
            "Requirement already satisfied: pillow!=8.3.*,>=5.3.0 in /usr/local/lib/python3.10/dist-packages (from torchvision) (9.4.0)\n",
            "Requirement already satisfied: MarkupSafe>=2.0 in /usr/local/lib/python3.10/dist-packages (from jinja2->torch) (2.1.5)\n",
            "Requirement already satisfied: charset-normalizer<4,>=2 in /usr/local/lib/python3.10/dist-packages (from requests->torchvision) (3.3.2)\n",
            "Requirement already satisfied: idna<4,>=2.5 in /usr/local/lib/python3.10/dist-packages (from requests->torchvision) (3.6)\n",
            "Requirement already satisfied: urllib3<3,>=1.21.1 in /usr/local/lib/python3.10/dist-packages (from requests->torchvision) (2.0.7)\n",
            "Requirement already satisfied: certifi>=2017.4.17 in /usr/local/lib/python3.10/dist-packages (from requests->torchvision) (2024.2.2)\n",
            "Requirement already satisfied: mpmath>=0.19 in /usr/local/lib/python3.10/dist-packages (from sympy->torch) (1.3.0)\n"
          ]
        }
      ],
      "source": [
        "!pip install torch torchvision"
      ]
    },
    {
      "cell_type": "code",
      "execution_count": 45,
      "metadata": {
        "colab": {
          "base_uri": "https://localhost:8080/"
        },
        "id": "hDq7dAI3C-WI",
        "outputId": "0b23e001-7e57-472f-e359-1491b403ae51"
      },
      "outputs": [
        {
          "output_type": "stream",
          "name": "stdout",
          "text": [
            "2.1.0+cu121\n"
          ]
        }
      ],
      "source": [
        "import torch\n",
        "print(torch.__version__)\n"
      ]
    },
    {
      "cell_type": "code",
      "execution_count": 46,
      "metadata": {
        "colab": {
          "base_uri": "https://localhost:8080/"
        },
        "id": "p5hrnAxsC-WI",
        "outputId": "da89dba1-1b4b-4135-f3ae-148a80794e2c"
      },
      "outputs": [
        {
          "output_type": "stream",
          "name": "stdout",
          "text": [
            "Requirement already satisfied: torch_geometric in /usr/local/lib/python3.10/dist-packages (2.5.0)\n",
            "Requirement already satisfied: tqdm in /usr/local/lib/python3.10/dist-packages (from torch_geometric) (4.66.2)\n",
            "Requirement already satisfied: numpy in /usr/local/lib/python3.10/dist-packages (from torch_geometric) (1.25.2)\n",
            "Requirement already satisfied: scipy in /usr/local/lib/python3.10/dist-packages (from torch_geometric) (1.11.4)\n",
            "Requirement already satisfied: fsspec in /usr/local/lib/python3.10/dist-packages (from torch_geometric) (2023.6.0)\n",
            "Requirement already satisfied: jinja2 in /usr/local/lib/python3.10/dist-packages (from torch_geometric) (3.1.3)\n",
            "Requirement already satisfied: aiohttp in /usr/local/lib/python3.10/dist-packages (from torch_geometric) (3.9.3)\n",
            "Requirement already satisfied: requests in /usr/local/lib/python3.10/dist-packages (from torch_geometric) (2.31.0)\n",
            "Requirement already satisfied: pyparsing in /usr/local/lib/python3.10/dist-packages (from torch_geometric) (3.1.1)\n",
            "Requirement already satisfied: scikit-learn in /usr/local/lib/python3.10/dist-packages (from torch_geometric) (1.2.2)\n",
            "Requirement already satisfied: psutil>=5.8.0 in /usr/local/lib/python3.10/dist-packages (from torch_geometric) (5.9.5)\n",
            "Requirement already satisfied: aiosignal>=1.1.2 in /usr/local/lib/python3.10/dist-packages (from aiohttp->torch_geometric) (1.3.1)\n",
            "Requirement already satisfied: attrs>=17.3.0 in /usr/local/lib/python3.10/dist-packages (from aiohttp->torch_geometric) (23.2.0)\n",
            "Requirement already satisfied: frozenlist>=1.1.1 in /usr/local/lib/python3.10/dist-packages (from aiohttp->torch_geometric) (1.4.1)\n",
            "Requirement already satisfied: multidict<7.0,>=4.5 in /usr/local/lib/python3.10/dist-packages (from aiohttp->torch_geometric) (6.0.5)\n",
            "Requirement already satisfied: yarl<2.0,>=1.0 in /usr/local/lib/python3.10/dist-packages (from aiohttp->torch_geometric) (1.9.4)\n",
            "Requirement already satisfied: async-timeout<5.0,>=4.0 in /usr/local/lib/python3.10/dist-packages (from aiohttp->torch_geometric) (4.0.3)\n",
            "Requirement already satisfied: MarkupSafe>=2.0 in /usr/local/lib/python3.10/dist-packages (from jinja2->torch_geometric) (2.1.5)\n",
            "Requirement already satisfied: charset-normalizer<4,>=2 in /usr/local/lib/python3.10/dist-packages (from requests->torch_geometric) (3.3.2)\n",
            "Requirement already satisfied: idna<4,>=2.5 in /usr/local/lib/python3.10/dist-packages (from requests->torch_geometric) (3.6)\n",
            "Requirement already satisfied: urllib3<3,>=1.21.1 in /usr/local/lib/python3.10/dist-packages (from requests->torch_geometric) (2.0.7)\n",
            "Requirement already satisfied: certifi>=2017.4.17 in /usr/local/lib/python3.10/dist-packages (from requests->torch_geometric) (2024.2.2)\n",
            "Requirement already satisfied: joblib>=1.1.1 in /usr/local/lib/python3.10/dist-packages (from scikit-learn->torch_geometric) (1.3.2)\n",
            "Requirement already satisfied: threadpoolctl>=2.0.0 in /usr/local/lib/python3.10/dist-packages (from scikit-learn->torch_geometric) (3.2.0)\n"
          ]
        }
      ],
      "source": [
        "!pip install torch_geometric\n"
      ]
    },
    {
      "cell_type": "code",
      "execution_count": 47,
      "metadata": {
        "id": "7zzljch8C-WJ"
      },
      "outputs": [],
      "source": [
        "import torch\n",
        "from torch_geometric.datasets import Planetoid\n",
        "\n",
        "\n",
        "# Load the CiteSeer dataset\n",
        "citeseer_dataset = Planetoid(root='', name='CiteSeer')\n",
        "\n",
        "citeseer = citeseer_dataset[0]"
      ]
    },
    {
      "cell_type": "code",
      "source": [
        "\n",
        "from torch_geometric.datasets import CoraFull\n",
        "# Define the root directory for the dataset\n",
        "root = './CoraFull'\n",
        "\n",
        "# Initialize the CoraFull dataset\n",
        "CoraFull_dataset = CoraFull(root)\n",
        "\n",
        "# Download and process the dataset if not already done\n",
        "CoraFull_dataset.download()\n",
        "CoraFull_dataset.process()\n",
        "\n",
        "# Load the data\n",
        "CoraFull =  CoraFull_dataset[0]\n",
        "\n"
      ],
      "metadata": {
        "colab": {
          "base_uri": "https://localhost:8080/"
        },
        "id": "IMksLg5q806v",
        "outputId": "1077716e-d2d9-48cf-d844-b9495f33db93"
      },
      "execution_count": 48,
      "outputs": [
        {
          "output_type": "stream",
          "name": "stderr",
          "text": [
            "Using existing file cora.npz\n"
          ]
        }
      ]
    },
    {
      "cell_type": "markdown",
      "metadata": {
        "id": "EQYze4oUC-WK"
      },
      "source": [
        "# **Split dataset**"
      ]
    },
    {
      "cell_type": "code",
      "execution_count": 49,
      "metadata": {
        "id": "BGInSwZRC-WK"
      },
      "outputs": [],
      "source": [
        "from torch_geometric.transforms import RandomNodeSplit\n",
        "\n",
        "transform = RandomNodeSplit(num_train_per_class=int(CoraFull.num_nodes * 0.7), num_val=int(CoraFull.num_nodes * 0.1), num_test=int(CoraFull.num_nodes * 0.2))\n",
        "CoraFull = transform(CoraFull)"
      ]
    },
    {
      "cell_type": "code",
      "execution_count": 50,
      "metadata": {
        "id": "WvzoPRJEC-WL"
      },
      "outputs": [],
      "source": [
        "\n",
        "transform = RandomNodeSplit(num_train_per_class=int(citeseer.num_nodes * 0.7), num_val=int(citeseer.num_nodes * 0.1), num_test=int(citeseer.num_nodes * 0.2))\n",
        "citeseer = transform(citeseer)"
      ]
    },
    {
      "cell_type": "markdown",
      "metadata": {
        "id": "OVmeky7n9wau"
      },
      "source": [
        "# **Re-normalization Adjacency Matrix**"
      ]
    },
    {
      "cell_type": "markdown",
      "metadata": {
        "id": "8KhDult59eWX"
      },
      "source": [
        "![image.png](data:image/png;base64,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)"
      ]
    },
    {
      "cell_type": "code",
      "source": [
        "import scipy.sparse as sp\n",
        "import numpy as np\n",
        "\n",
        "def renormalize_adjacency(adj):\n",
        "\n",
        "    if not isinstance(adj, sp.coo_matrix):\n",
        "        adj = sp.coo_matrix(adj)\n",
        "\n",
        "    # Add identity matrix to  adjacency matrix\n",
        "    adj.setdiag(adj.diagonal() +  1)\n",
        "\n",
        "    #  degree matrix\n",
        "    row_sum = adj.sum(axis=1).A1\n",
        "\n",
        "    #inverse square root of the degree matrix\n",
        "    d_inv_sqrt = np.power(row_sum, -0.5)\n",
        "    d_inv_sqrt[np.isinf(d_inv_sqrt)] =  0.\n",
        "\n",
        "    # D^{-1/2}\n",
        "    d_mat_inv_sqrt = sp.diags(d_inv_sqrt)\n",
        "\n",
        "    # D^{-1/2}(A + I)D^{-1/2}\n",
        "    renormalized_adjacency_matrix = d_mat_inv_sqrt.dot(adj).dot(d_mat_inv_sqrt)\n",
        "\n",
        "    return renormalized_adjacency_matrix"
      ],
      "metadata": {
        "id": "qOqonT3U7LRd"
      },
      "execution_count": 51,
      "outputs": []
    },
    {
      "cell_type": "markdown",
      "metadata": {
        "id": "icQm8SO64dlG"
      },
      "source": [
        "# **DropEdge technique**"
      ]
    },
    {
      "cell_type": "markdown",
      "metadata": {
        "id": "yuscBnum4m50"
      },
      "source": [
        "![image.png](data:image/png;base64,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)"
      ]
    },
    {
      "cell_type": "code",
      "source": [
        "\n",
        "import torch\n",
        "\n",
        "def calculate_A_drop(adj_matrix, deletion_rate):\n",
        "\n",
        "    edge_indices = adj_matrix.nonzero(as_tuple=False)\n",
        "\n",
        "\n",
        "    total_edges = edge_indices.size(0)\n",
        "\n",
        "\n",
        "    num_edges_to_delete = int(total_edges * deletion_rate)\n",
        "\n",
        "\n",
        "    permuted_indices = torch.randperm(total_edges, device=adj_matrix.device)\n",
        "\n",
        "\n",
        "    indices_to_delete = edge_indices[permuted_indices[:num_edges_to_delete]]\n",
        "\n",
        "    # Create a copy of the adjacency matrix\n",
        "    modified_adj_matrix = adj_matrix.clone()\n",
        "\n",
        "    # Delete selected edges\n",
        "    modified_adj_matrix[indices_to_delete[:, 0], indices_to_delete[:, 1]] = 0\n",
        "\n",
        "    return modified_adj_matrix\n",
        "\n",
        "\n",
        "\n"
      ],
      "metadata": {
        "id": "HSfxR9WublKu"
      },
      "execution_count": 52,
      "outputs": []
    },
    {
      "cell_type": "markdown",
      "metadata": {
        "id": "2pMJzkKXlOeX"
      },
      "source": [
        "# **Prepare adjacency_matrix matrix**"
      ]
    },
    {
      "cell_type": "code",
      "execution_count": 53,
      "metadata": {
        "id": "BdXNwKomlN0_",
        "colab": {
          "base_uri": "https://localhost:8080/"
        },
        "outputId": "eb3c182c-be8c-4b1e-cb41-f1b606d59496"
      },
      "outputs": [
        {
          "output_type": "stream",
          "name": "stdout",
          "text": [
            "tensor([[0., 0., 0.,  ..., 0., 0., 0.],\n",
            "        [0., 0., 0.,  ..., 0., 0., 0.],\n",
            "        [0., 0., 0.,  ..., 0., 0., 0.],\n",
            "        ...,\n",
            "        [0., 0., 0.,  ..., 0., 0., 0.],\n",
            "        [0., 0., 0.,  ..., 0., 0., 0.],\n",
            "        [0., 0., 0.,  ..., 0., 0., 0.]])\n"
          ]
        }
      ],
      "source": [
        "import torch\n",
        "from torch_geometric.utils import to_dense_adj\n",
        "\n",
        "edge_index = CoraFull.edge_index\n",
        "\n",
        "adjacency_matrix = to_dense_adj(edge_index)[0]\n",
        "\n",
        "\n",
        "print(adjacency_matrix)\n",
        "\n",
        "\n"
      ]
    },
    {
      "cell_type": "markdown",
      "source": [
        "# **Important functions**"
      ],
      "metadata": {
        "id": "C2qY47N1TlyJ"
      }
    },
    {
      "cell_type": "code",
      "execution_count": 54,
      "metadata": {
        "id": "jyiokKCLWA_P"
      },
      "outputs": [],
      "source": [
        "def train(model, optimizer, criterion, data, adjacency_matrix):\n",
        "    model.train()\n",
        "    optimizer.zero_grad()\n",
        "    out = model(data.x, adjacency_matrix)\n",
        "    loss = criterion(out[data.train_mask], data.y[data.train_mask])\n",
        "    loss.backward()\n",
        "    optimizer.step()\n",
        "    return loss.item()\n",
        "\n",
        "def validate(model, criterion, data , adjacency_matrix):\n",
        "    model.eval()\n",
        "    with torch.no_grad():\n",
        "        out = model(data.x, adjacency_matrix)\n",
        "        val_loss = criterion(out[data.val_mask], data.y[data.val_mask])\n",
        "    return val_loss.item()\n",
        "\n",
        "def test(model, criterion, data , adjacency_matrix):\n",
        "    model.eval()\n",
        "    with torch.no_grad():\n",
        "        out = model(data.x, adjacency_matrix)\n",
        "        _, pred = torch.max(out, dim=1)\n",
        "        correct = float(pred[data.test_mask].eq(data.y[data.test_mask]).sum().item())\n",
        "        acc = correct / data.test_mask.sum().item()\n",
        "    return acc\n"
      ]
    },
    {
      "cell_type": "markdown",
      "source": [
        "# **Two layer GCN (With drop edge)**"
      ],
      "metadata": {
        "id": "W2EaisiITvz6"
      }
    },
    {
      "cell_type": "code",
      "execution_count": 55,
      "metadata": {
        "id": "EtQ6s4OB-yZR"
      },
      "outputs": [],
      "source": [
        "import torch.nn as nn\n",
        "import torch.nn.functional as F\n",
        "import math\n",
        "\n",
        "class GCNLayer_with_drop_edge(nn.Module):\n",
        "    def __init__(self, in_features, out_features, dropout=0.0):\n",
        "        super(GCNLayer_with_drop_edge, self).__init__()\n",
        "        self.in_features = in_features\n",
        "        self.out_features = out_features\n",
        "        self.weight = nn.Parameter(torch.FloatTensor(in_features, out_features))\n",
        "        self.reset_parameters()\n",
        "        self.dropout = nn.Dropout(p=dropout)\n",
        "\n",
        "    def reset_parameters(self):\n",
        "        stdv =   1. / math.sqrt(self.weight.size(1))\n",
        "        self.weight.data.uniform_(-stdv, stdv)\n",
        "\n",
        "    def forward(self, input, adjacency_matrix):\n",
        "        # Renormalize the adjacency matrix\n",
        "        adjacency_matrix = renormalize_adjacency(adjacency_matrix.numpy())\n",
        "\n",
        "        # Convert the renormalized adjacency matrix back to a PyTorch tensor\n",
        "        adjacency_matrix = torch.tensor(adjacency_matrix.todense(), dtype=torch.float32)\n",
        "\n",
        "        support = torch.mm(input, self.weight)\n",
        "        output = torch.spmm(adjacency_matrix, support)\n",
        "        if self.training:\n",
        "            output = self.dropout(output)\n",
        "        return output\n",
        "\n",
        "\n"
      ]
    },
    {
      "cell_type": "code",
      "execution_count": 58,
      "metadata": {
        "id": "nyexpdgdOu7c"
      },
      "outputs": [],
      "source": [
        "class TwoLayerGCN_with_drop_edge(nn.Module):\n",
        "    def __init__(self, in_features, hidden_features, out_features, dropout=0.0):\n",
        "        super(TwoLayerGCN_with_drop_edge, self).__init__()\n",
        "        self.layer1 = GCNLayer_with_drop_edge(in_features, hidden_features, dropout)\n",
        "        self.layer2 = GCNLayer_with_drop_edge(hidden_features, out_features, dropout)\n",
        "\n",
        "    def forward(self, input, adjacency_matrix):\n",
        "        A_drop = calculate_A_drop(adjacency_matrix , 0.4)\n",
        "        x = self.layer1(input, A_drop)\n",
        "        x = F.relu(x)\n",
        "        A_drop = calculate_A_drop(adjacency_matrix , 0.4)\n",
        "        x = self.layer2(x, A_drop) #layer-wise A_drop\n",
        "        return x\n"
      ]
    },
    {
      "cell_type": "markdown",
      "metadata": {
        "id": "SHQLeThINyZ1"
      },
      "source": [
        "## **Evaluation on corafull**"
      ]
    },
    {
      "cell_type": "code",
      "execution_count": 59,
      "metadata": {
        "id": "oTCWFj3KO8yT",
        "colab": {
          "base_uri": "https://localhost:8080/"
        },
        "outputId": "f7d9196a-14fa-4a46-921a-658b8ba2b38c"
      },
      "outputs": [
        {
          "output_type": "stream",
          "name": "stdout",
          "text": [
            " Epoch: 0, Train Loss: 4.2880, Validation Loss: 4.1505 \n",
            " Epoch: 1, Train Loss: 4.1464, Validation Loss: 4.0282 \n",
            " Epoch: 2, Train Loss: 4.0283, Validation Loss: 3.8591 \n",
            " Epoch: 3, Train Loss: 3.9452, Validation Loss: 3.7154 \n",
            " Epoch: 4, Train Loss: 3.8165, Validation Loss: 3.5972 \n",
            " Epoch: 5, Train Loss: 3.6931, Validation Loss: 3.4866 \n",
            " Epoch: 6, Train Loss: 3.5960, Validation Loss: 3.3665 \n",
            " Epoch: 7, Train Loss: 3.4906, Validation Loss: 3.2276 \n",
            " Epoch: 8, Train Loss: 3.3965, Validation Loss: 3.0599 \n",
            " Epoch: 9, Train Loss: 3.2914, Validation Loss: 2.9165 \n",
            " Epoch: 10, Train Loss: 3.2118, Validation Loss: 2.8169 \n",
            " Epoch: 11, Train Loss: 3.1402, Validation Loss: 2.7024 \n",
            " Epoch: 12, Train Loss: 3.0833, Validation Loss: 2.5939 \n",
            " Epoch: 13, Train Loss: 3.0282, Validation Loss: 2.5041 \n",
            " Epoch: 14, Train Loss: 2.9795, Validation Loss: 2.4136 \n",
            " Epoch: 15, Train Loss: 2.9663, Validation Loss: 2.3332 \n",
            " Epoch: 16, Train Loss: 2.9007, Validation Loss: 2.2671 \n",
            " Epoch: 17, Train Loss: 2.8795, Validation Loss: 2.2388 \n",
            " Epoch: 18, Train Loss: 2.8342, Validation Loss: 2.2079 \n",
            " Epoch: 19, Train Loss: 2.8199, Validation Loss: 2.1713 \n",
            " Epoch: 20, Train Loss: 2.7772, Validation Loss: 2.1659 \n",
            " Epoch: 21, Train Loss: 2.7527, Validation Loss: 2.1274 \n",
            " Epoch: 22, Train Loss: 2.7527, Validation Loss: 2.0988 \n",
            " Epoch: 23, Train Loss: 2.7466, Validation Loss: 2.0844 \n",
            " Epoch: 24, Train Loss: 2.7090, Validation Loss: 2.0485 \n",
            " Epoch: 25, Train Loss: 2.6863, Validation Loss: 2.0136 \n",
            " Epoch: 26, Train Loss: 2.6739, Validation Loss: 1.9902 \n",
            " Epoch: 27, Train Loss: 2.7006, Validation Loss: 1.9838 \n",
            " Epoch: 28, Train Loss: 2.6290, Validation Loss: 1.9667 \n",
            " Epoch: 29, Train Loss: 2.6605, Validation Loss: 1.9430 \n",
            " Epoch: 30, Train Loss: 2.6352, Validation Loss: 1.9534 \n",
            " Epoch: 31, Train Loss: 2.6497, Validation Loss: 1.9675 \n",
            " Epoch: 32, Train Loss: 2.6103, Validation Loss: 1.9635 \n",
            " Epoch: 33, Train Loss: 2.6083, Validation Loss: 1.9608 \n",
            "Early stopping at epoch 34 \n",
            "\n",
            "Test Accuracy(two layer) on CoraFull dataset: 0.6900\n"
          ]
        }
      ],
      "source": [
        "import torch.optim as optim\n",
        "torch.manual_seed(1)\n",
        "\n",
        "model = TwoLayerGCN_with_drop_edge(in_features =CoraFull.num_node_features, hidden_features = 64 , out_features = CoraFull_dataset.num_classes ,dropout= 0.5)\n",
        "optimizer = optim.Adam(model.parameters(), lr=0.01, weight_decay=5e-4)\n",
        "criterion = torch.nn.CrossEntropyLoss()\n",
        "\n",
        "# Early stopping parameters\n",
        "patience = 5\n",
        "min_delta = 0.001\n",
        "patience_counter = 0\n",
        "best_loss = float('inf')\n",
        "\n",
        "# Train the best model\n",
        "for epoch in range(200):\n",
        "    A_drop = calculate_A_drop(adjacency_matrix , 0.4)\n",
        "    train_loss = train(model, optimizer, criterion, CoraFull , A_drop)\n",
        "    val_loss = validate(model, criterion, CoraFull , adjacency_matrix)\n",
        "\n",
        "    # Check for improvement in validation loss\n",
        "    if val_loss < best_loss - min_delta:\n",
        "        best_loss = val_loss\n",
        "        patience_counter = 0 # Reset counter\n",
        "    else:\n",
        "        patience_counter += 1\n",
        "        if patience_counter >= patience:\n",
        "            print(f'Early stopping at epoch {epoch} \\n')\n",
        "            break\n",
        "\n",
        "\n",
        "    print(f' Epoch: {epoch}, Train Loss: {train_loss:.4f}, Validation Loss: {val_loss:.4f} ')\n",
        "\n",
        "# Evaluate the model on the test data\n",
        "test_accuracy = test(model, criterion, CoraFull , adjacency_matrix)\n",
        "print(f'Test Accuracy(two layer) on CoraFull dataset: {test_accuracy:.4f}')"
      ]
    },
    {
      "cell_type": "markdown",
      "metadata": {
        "id": "vad16yxaNq_F"
      },
      "source": [
        "## **Evaluation on citeseer**"
      ]
    },
    {
      "cell_type": "code",
      "execution_count": 60,
      "metadata": {
        "id": "wYgZZFLehNdQ"
      },
      "outputs": [],
      "source": [
        "\n",
        "edge_index = citeseer.edge_index\n",
        "\n",
        "\n",
        "adjacency_matrix = to_dense_adj(edge_index)[0]"
      ]
    },
    {
      "cell_type": "code",
      "execution_count": 61,
      "metadata": {
        "id": "w-sYqukTg17q",
        "colab": {
          "base_uri": "https://localhost:8080/"
        },
        "outputId": "d5a68a3b-728a-475b-e256-e06e7e370627"
      },
      "outputs": [
        {
          "output_type": "stream",
          "name": "stdout",
          "text": [
            " Epoch: 0, Train Loss: 1.8260, Validation Loss: 5.4601 \n",
            " Epoch: 1, Train Loss: 4.6314, Validation Loss: 2.0882 \n",
            " Epoch: 2, Train Loss: 1.3056, Validation Loss: 1.5393 \n",
            " Epoch: 3, Train Loss: 1.0200, Validation Loss: 1.1812 \n",
            " Epoch: 4, Train Loss: 0.7557, Validation Loss: 0.9563 \n",
            " Epoch: 5, Train Loss: 0.5809, Validation Loss: 0.8980 \n",
            " Epoch: 6, Train Loss: 0.5143, Validation Loss: 0.8774 \n",
            " Epoch: 7, Train Loss: 0.4744, Validation Loss: 0.8008 \n",
            " Epoch: 8, Train Loss: 0.4402, Validation Loss: 0.8297 \n",
            " Epoch: 9, Train Loss: 0.4457, Validation Loss: 0.8362 \n",
            " Epoch: 10, Train Loss: 0.4071, Validation Loss: 0.7923 \n",
            " Epoch: 11, Train Loss: 0.3798, Validation Loss: 0.8011 \n",
            " Epoch: 12, Train Loss: 0.3440, Validation Loss: 0.7842 \n",
            " Epoch: 13, Train Loss: 0.3297, Validation Loss: 0.7774 \n",
            " Epoch: 14, Train Loss: 0.3202, Validation Loss: 0.7747 \n",
            " Epoch: 15, Train Loss: 0.3083, Validation Loss: 0.8175 \n",
            " Epoch: 16, Train Loss: 0.2906, Validation Loss: 0.7539 \n",
            " Epoch: 17, Train Loss: 0.2782, Validation Loss: 0.8193 \n",
            " Epoch: 18, Train Loss: 0.2777, Validation Loss: 0.8019 \n",
            " Epoch: 19, Train Loss: 0.2878, Validation Loss: 0.7973 \n",
            " Epoch: 20, Train Loss: 0.2863, Validation Loss: 0.8324 \n",
            "Early stopping at epoch 21 \n",
            "\n",
            "Test Accuracy(two layer) on citeseer dataset: 0.7429\n"
          ]
        }
      ],
      "source": [
        "torch.manual_seed(0)\n",
        "\n",
        "model = TwoLayerGCN_with_drop_edge(in_features =citeseer.num_node_features, hidden_features = 256 , out_features = citeseer_dataset.num_classes ,dropout= 0.0)\n",
        "optimizer = optim.Adam(model.parameters(), lr=0.05, weight_decay=5e-4)\n",
        "criterion = torch.nn.CrossEntropyLoss()\n",
        "\n",
        "# Early stopping parameters\n",
        "patience = 5\n",
        "min_delta = 0.001\n",
        "patience_counter = 0\n",
        "best_loss = float('inf')\n",
        "\n",
        "# Train the best model\n",
        "for epoch in range(200):\n",
        "  A_drop = calculate_A_drop(adjacency_matrix , 0.4)\n",
        "  train_loss = train(model, optimizer, criterion, citeseer , A_drop)\n",
        "  val_loss = validate(model, criterion, citeseer , adjacency_matrix)\n",
        "\n",
        "  # Check for improvement in validation loss\n",
        "  if val_loss < best_loss - min_delta:\n",
        "      best_loss = val_loss\n",
        "      patience_counter = 0 # Reset counter\n",
        "  else:\n",
        "      patience_counter += 1\n",
        "      if patience_counter >= patience:\n",
        "          print(f'Early stopping at epoch {epoch} \\n')\n",
        "          break\n",
        "\n",
        "  # Print the loss\n",
        "  print(f' Epoch: {epoch}, Train Loss: {train_loss:.4f}, Validation Loss: {val_loss:.4f} ')\n",
        "\n",
        "# Evaluate the model on the test data\n",
        "test_accuracy = test(model, criterion, citeseer , adjacency_matrix)\n",
        "print(f'Test Accuracy(two layer) on citeseer dataset: {test_accuracy:.4f}')\n",
        "\n"
      ]
    }
  ],
  "metadata": {
    "colab": {
      "provenance": [],
      "toc_visible": true
    },
    "kernelspec": {
      "display_name": "Python 3",
      "name": "python3"
    },
    "language_info": {
      "name": "python"
    }
  },
  "nbformat": 4,
  "nbformat_minor": 0
}