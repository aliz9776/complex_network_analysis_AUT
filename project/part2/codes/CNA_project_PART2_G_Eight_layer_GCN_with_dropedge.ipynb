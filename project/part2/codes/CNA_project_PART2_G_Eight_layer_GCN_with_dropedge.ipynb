{
  "cells": [
    {
      "cell_type": "markdown",
      "metadata": {
        "id": "j_1CvkCKyS5l"
      },
      "source": [
        "# **Load Dataset**"
      ]
    },
    {
      "cell_type": "code",
      "execution_count": 1,
      "metadata": {
        "colab": {
          "base_uri": "https://localhost:8080/"
        },
        "outputId": "ac4679d9-e924-46b3-fcef-353f90a8095d",
        "id": "zj2zBbRhyS5p"
      },
      "outputs": [
        {
          "output_type": "stream",
          "name": "stdout",
          "text": [
            "Requirement already satisfied: torch in /usr/local/lib/python3.10/dist-packages (2.1.0+cu121)\n",
            "Requirement already satisfied: torchvision in /usr/local/lib/python3.10/dist-packages (0.16.0+cu121)\n",
            "Requirement already satisfied: filelock in /usr/local/lib/python3.10/dist-packages (from torch) (3.13.1)\n",
            "Requirement already satisfied: typing-extensions in /usr/local/lib/python3.10/dist-packages (from torch) (4.9.0)\n",
            "Requirement already satisfied: sympy in /usr/local/lib/python3.10/dist-packages (from torch) (1.12)\n",
            "Requirement already satisfied: networkx in /usr/local/lib/python3.10/dist-packages (from torch) (3.2.1)\n",
            "Requirement already satisfied: jinja2 in /usr/local/lib/python3.10/dist-packages (from torch) (3.1.3)\n",
            "Requirement already satisfied: fsspec in /usr/local/lib/python3.10/dist-packages (from torch) (2023.6.0)\n",
            "Requirement already satisfied: triton==2.1.0 in /usr/local/lib/python3.10/dist-packages (from torch) (2.1.0)\n",
            "Requirement already satisfied: numpy in /usr/local/lib/python3.10/dist-packages (from torchvision) (1.25.2)\n",
            "Requirement already satisfied: requests in /usr/local/lib/python3.10/dist-packages (from torchvision) (2.31.0)\n",
            "Requirement already satisfied: pillow!=8.3.*,>=5.3.0 in /usr/local/lib/python3.10/dist-packages (from torchvision) (9.4.0)\n",
            "Requirement already satisfied: MarkupSafe>=2.0 in /usr/local/lib/python3.10/dist-packages (from jinja2->torch) (2.1.5)\n",
            "Requirement already satisfied: charset-normalizer<4,>=2 in /usr/local/lib/python3.10/dist-packages (from requests->torchvision) (3.3.2)\n",
            "Requirement already satisfied: idna<4,>=2.5 in /usr/local/lib/python3.10/dist-packages (from requests->torchvision) (3.6)\n",
            "Requirement already satisfied: urllib3<3,>=1.21.1 in /usr/local/lib/python3.10/dist-packages (from requests->torchvision) (2.0.7)\n",
            "Requirement already satisfied: certifi>=2017.4.17 in /usr/local/lib/python3.10/dist-packages (from requests->torchvision) (2024.2.2)\n",
            "Requirement already satisfied: mpmath>=0.19 in /usr/local/lib/python3.10/dist-packages (from sympy->torch) (1.3.0)\n"
          ]
        }
      ],
      "source": [
        "!pip install torch torchvision"
      ]
    },
    {
      "cell_type": "code",
      "execution_count": 2,
      "metadata": {
        "colab": {
          "base_uri": "https://localhost:8080/"
        },
        "outputId": "e16a8b29-1516-4ac0-9b18-d898679ea15c",
        "id": "R2qm2VDzyS5q"
      },
      "outputs": [
        {
          "output_type": "stream",
          "name": "stdout",
          "text": [
            "2.1.0+cu121\n"
          ]
        }
      ],
      "source": [
        "import torch\n",
        "print(torch.__version__)\n"
      ]
    },
    {
      "cell_type": "code",
      "execution_count": 3,
      "metadata": {
        "colab": {
          "base_uri": "https://localhost:8080/"
        },
        "outputId": "4f956147-a24d-480f-e214-e0a103b4c12a",
        "id": "U3El4HIWyS5r"
      },
      "outputs": [
        {
          "output_type": "stream",
          "name": "stdout",
          "text": [
            "Collecting torch_geometric\n",
            "  Downloading torch_geometric-2.5.0-py3-none-any.whl (1.1 MB)\n",
            "\u001b[2K     \u001b[90m━━━━━━━━━━━━━━━━━━━━━━━━━━━━━━━━━━━━━━━━\u001b[0m \u001b[32m1.1/1.1 MB\u001b[0m \u001b[31m7.1 MB/s\u001b[0m eta \u001b[36m0:00:00\u001b[0m\n",
            "\u001b[?25hRequirement already satisfied: tqdm in /usr/local/lib/python3.10/dist-packages (from torch_geometric) (4.66.2)\n",
            "Requirement already satisfied: numpy in /usr/local/lib/python3.10/dist-packages (from torch_geometric) (1.25.2)\n",
            "Requirement already satisfied: scipy in /usr/local/lib/python3.10/dist-packages (from torch_geometric) (1.11.4)\n",
            "Requirement already satisfied: fsspec in /usr/local/lib/python3.10/dist-packages (from torch_geometric) (2023.6.0)\n",
            "Requirement already satisfied: jinja2 in /usr/local/lib/python3.10/dist-packages (from torch_geometric) (3.1.3)\n",
            "Requirement already satisfied: aiohttp in /usr/local/lib/python3.10/dist-packages (from torch_geometric) (3.9.3)\n",
            "Requirement already satisfied: requests in /usr/local/lib/python3.10/dist-packages (from torch_geometric) (2.31.0)\n",
            "Requirement already satisfied: pyparsing in /usr/local/lib/python3.10/dist-packages (from torch_geometric) (3.1.1)\n",
            "Requirement already satisfied: scikit-learn in /usr/local/lib/python3.10/dist-packages (from torch_geometric) (1.2.2)\n",
            "Requirement already satisfied: psutil>=5.8.0 in /usr/local/lib/python3.10/dist-packages (from torch_geometric) (5.9.5)\n",
            "Requirement already satisfied: aiosignal>=1.1.2 in /usr/local/lib/python3.10/dist-packages (from aiohttp->torch_geometric) (1.3.1)\n",
            "Requirement already satisfied: attrs>=17.3.0 in /usr/local/lib/python3.10/dist-packages (from aiohttp->torch_geometric) (23.2.0)\n",
            "Requirement already satisfied: frozenlist>=1.1.1 in /usr/local/lib/python3.10/dist-packages (from aiohttp->torch_geometric) (1.4.1)\n",
            "Requirement already satisfied: multidict<7.0,>=4.5 in /usr/local/lib/python3.10/dist-packages (from aiohttp->torch_geometric) (6.0.5)\n",
            "Requirement already satisfied: yarl<2.0,>=1.0 in /usr/local/lib/python3.10/dist-packages (from aiohttp->torch_geometric) (1.9.4)\n",
            "Requirement already satisfied: async-timeout<5.0,>=4.0 in /usr/local/lib/python3.10/dist-packages (from aiohttp->torch_geometric) (4.0.3)\n",
            "Requirement already satisfied: MarkupSafe>=2.0 in /usr/local/lib/python3.10/dist-packages (from jinja2->torch_geometric) (2.1.5)\n",
            "Requirement already satisfied: charset-normalizer<4,>=2 in /usr/local/lib/python3.10/dist-packages (from requests->torch_geometric) (3.3.2)\n",
            "Requirement already satisfied: idna<4,>=2.5 in /usr/local/lib/python3.10/dist-packages (from requests->torch_geometric) (3.6)\n",
            "Requirement already satisfied: urllib3<3,>=1.21.1 in /usr/local/lib/python3.10/dist-packages (from requests->torch_geometric) (2.0.7)\n",
            "Requirement already satisfied: certifi>=2017.4.17 in /usr/local/lib/python3.10/dist-packages (from requests->torch_geometric) (2024.2.2)\n",
            "Requirement already satisfied: joblib>=1.1.1 in /usr/local/lib/python3.10/dist-packages (from scikit-learn->torch_geometric) (1.3.2)\n",
            "Requirement already satisfied: threadpoolctl>=2.0.0 in /usr/local/lib/python3.10/dist-packages (from scikit-learn->torch_geometric) (3.2.0)\n",
            "Installing collected packages: torch_geometric\n",
            "Successfully installed torch_geometric-2.5.0\n"
          ]
        }
      ],
      "source": [
        "!pip install torch_geometric\n"
      ]
    },
    {
      "cell_type": "code",
      "execution_count": 4,
      "metadata": {
        "id": "eCkl8PwCyS5s",
        "colab": {
          "base_uri": "https://localhost:8080/"
        },
        "outputId": "e6df217c-b540-4829-cd2c-c3af9752cd3a"
      },
      "outputs": [
        {
          "output_type": "stream",
          "name": "stderr",
          "text": [
            "Downloading https://github.com/kimiyoung/planetoid/raw/master/data/ind.citeseer.x\n",
            "Downloading https://github.com/kimiyoung/planetoid/raw/master/data/ind.citeseer.tx\n",
            "Downloading https://github.com/kimiyoung/planetoid/raw/master/data/ind.citeseer.allx\n",
            "Downloading https://github.com/kimiyoung/planetoid/raw/master/data/ind.citeseer.y\n",
            "Downloading https://github.com/kimiyoung/planetoid/raw/master/data/ind.citeseer.ty\n",
            "Downloading https://github.com/kimiyoung/planetoid/raw/master/data/ind.citeseer.ally\n",
            "Downloading https://github.com/kimiyoung/planetoid/raw/master/data/ind.citeseer.graph\n",
            "Downloading https://github.com/kimiyoung/planetoid/raw/master/data/ind.citeseer.test.index\n",
            "Processing...\n",
            "Done!\n"
          ]
        }
      ],
      "source": [
        "import torch\n",
        "from torch_geometric.datasets import Planetoid\n",
        "\n",
        "\n",
        "# Load the CiteSeer dataset\n",
        "citeseer_dataset = Planetoid(root='', name='CiteSeer')\n",
        "\n",
        "citeseer = citeseer_dataset[0]"
      ]
    },
    {
      "cell_type": "markdown",
      "metadata": {
        "id": "L7fouv9SyS5t"
      },
      "source": [
        "# **Split dataset**"
      ]
    },
    {
      "cell_type": "code",
      "execution_count": 6,
      "metadata": {
        "id": "FRw8aiu9yS5t"
      },
      "outputs": [],
      "source": [
        "from torch_geometric.transforms import RandomNodeSplit\n",
        "\n",
        "transform = RandomNodeSplit(num_train_per_class=int(citeseer.num_nodes * 0.7), num_val=int(citeseer.num_nodes * 0.1), num_test=int(citeseer.num_nodes * 0.2))\n",
        "citeseer = transform(citeseer)"
      ]
    },
    {
      "cell_type": "markdown",
      "metadata": {
        "id": "mpUdx3J9yS5u"
      },
      "source": [
        "# **Re-normalization Adjacency Matrix**"
      ]
    },
    {
      "cell_type": "markdown",
      "metadata": {
        "id": "iwAoG0xLyS5v"
      },
      "source": [
        "![image.png](data:image/png;base64,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)"
      ]
    },
    {
      "cell_type": "code",
      "execution_count": 7,
      "metadata": {
        "id": "xdUeT2eV5KdW"
      },
      "outputs": [],
      "source": [
        "import numpy as np\n",
        "import scipy.sparse as sp\n",
        "\n",
        "\n",
        "def renormalize_adjacency(adj):\n",
        "    adj = sp.coo_matrix(adj)\n",
        "    row_sum = np.array(adj.sum(1))\n",
        "    d_inv_sqrt = np.power(row_sum, -0.5).flatten()\n",
        "    d_inv_sqrt[np.isinf(d_inv_sqrt)] =  0.\n",
        "    d_mat_inv_sqrt = sp.diags(d_inv_sqrt)\n",
        "    return (sp.eye(adj.shape[0]) + d_mat_inv_sqrt.dot(adj).dot(d_mat_inv_sqrt)).tocoo()"
      ]
    },
    {
      "cell_type": "markdown",
      "metadata": {
        "id": "advjwoolyS5v"
      },
      "source": [
        "# **DropEdge technique**"
      ]
    },
    {
      "cell_type": "markdown",
      "metadata": {
        "id": "70doba99yS5w"
      },
      "source": [
        "![image.png](data:image/png;base64,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)"
      ]
    },
    {
      "cell_type": "code",
      "source": [
        "import torch\n",
        "\n",
        "def calculate_A_drop(adj_matrix, deletion_rate):\n",
        "\n",
        "    edge_indices = torch.nonzero(adj_matrix, as_tuple=False)\n",
        "\n",
        "    total_edges = len(edge_indices)\n",
        "\n",
        "    num_edges_to_delete = int(total_edges * deletion_rate)\n",
        "\n",
        "\n",
        "    permuted_indices = torch.randperm(total_edges)\n",
        "\n",
        "    # first num_edges_to_delete indices\n",
        "    indices_to_delete = edge_indices[permuted_indices[:num_edges_to_delete]]\n",
        "\n",
        "    # Create a copy of adjacency matrix\n",
        "    modified_adj_matrix = adj_matrix.clone()\n",
        "    t =0\n",
        "    # Delete selected edges\n",
        "    for i, j in indices_to_delete:\n",
        "\n",
        "        modified_adj_matrix[i, j] = 0\n",
        "\n",
        "    return modified_adj_matrix\n",
        "\n",
        "\n"
      ],
      "metadata": {
        "id": "iqSzgTs2yS5w"
      },
      "execution_count": 8,
      "outputs": []
    },
    {
      "cell_type": "markdown",
      "source": [
        "# **Important functions**"
      ],
      "metadata": {
        "id": "gVQC0PpuyS5w"
      }
    },
    {
      "cell_type": "code",
      "execution_count": 9,
      "metadata": {
        "id": "exUXQy8RyS5x"
      },
      "outputs": [],
      "source": [
        "def train(model, optimizer, criterion, data, adjacency_matrix):\n",
        "    model.train()\n",
        "    optimizer.zero_grad()\n",
        "    out = model(data.x, adjacency_matrix)\n",
        "    loss = criterion(out[data.train_mask], data.y[data.train_mask])\n",
        "    loss.backward()\n",
        "    optimizer.step()\n",
        "    return loss.item()\n",
        "\n",
        "def validate(model, criterion, data , adjacency_matrix):\n",
        "    model.eval()\n",
        "    with torch.no_grad():\n",
        "        out = model(data.x, adjacency_matrix)\n",
        "        val_loss = criterion(out[data.val_mask], data.y[data.val_mask])\n",
        "    return val_loss.item()\n",
        "\n",
        "def test(model, criterion, data , adjacency_matrix):\n",
        "    model.eval()\n",
        "    with torch.no_grad():\n",
        "        out = model(data.x, adjacency_matrix)\n",
        "        _, pred = torch.max(out, dim=1)\n",
        "        correct = float(pred[data.test_mask].eq(data.y[data.test_mask]).sum().item())\n",
        "        acc = correct / data.test_mask.sum().item()\n",
        "    return acc\n"
      ]
    },
    {
      "cell_type": "code",
      "execution_count": 10,
      "metadata": {
        "id": "wYgZZFLehNdQ"
      },
      "outputs": [],
      "source": [
        "import torch\n",
        "from torch_geometric.utils import to_dense_adj\n",
        "\n",
        "edge_index = citeseer.edge_index\n",
        "\n",
        "#edge index to adjacency matrix\n",
        "adjacency_matrix = to_dense_adj(edge_index)[0]"
      ]
    },
    {
      "cell_type": "code",
      "execution_count": 11,
      "metadata": {
        "id": "iG3VYLuChUe5"
      },
      "outputs": [],
      "source": [
        "A_drop = calculate_A_drop(adjacency_matrix , 0.1)"
      ]
    },
    {
      "cell_type": "markdown",
      "metadata": {
        "id": "Bd1plkPTyS5y"
      },
      "source": [
        "# **Eight layer GCN (With drop edge)**"
      ]
    },
    {
      "cell_type": "code",
      "execution_count": 12,
      "metadata": {
        "id": "R8T-rt63yS5x"
      },
      "outputs": [],
      "source": [
        "import torch.nn as nn\n",
        "import torch.nn.functional as F\n",
        "import math\n",
        "\n",
        "class GCNLayer_with_drop_edge(nn.Module):\n",
        "    def __init__(self, in_features, out_features, dropout=0.0):\n",
        "        super(GCNLayer_with_drop_edge, self).__init__()\n",
        "        self.in_features = in_features\n",
        "        self.out_features = out_features\n",
        "        self.weight = nn.Parameter(torch.FloatTensor(in_features, out_features))\n",
        "        self.reset_parameters()\n",
        "        self.dropout = nn.Dropout(p=dropout)\n",
        "\n",
        "    def reset_parameters(self):\n",
        "        stdv =   1. / math.sqrt(self.weight.size(1))\n",
        "        self.weight.data.uniform_(-stdv, stdv)\n",
        "\n",
        "    def forward(self, input, adjacency_matrix):\n",
        "        # Renormalize the adjacency matrix\n",
        "        adjacency_matrix = renormalize_adjacency(adjacency_matrix.numpy())\n",
        "\n",
        "        # Convert the renormalized adjacency matrix back to a PyTorch tensor\n",
        "        adjacency_matrix = torch.tensor(adjacency_matrix.todense(), dtype=torch.float32)\n",
        "\n",
        "        support = torch.mm(input, self.weight)\n",
        "        output = torch.spmm(adjacency_matrix, support)\n",
        "        if self.training:\n",
        "            output = self.dropout(output)\n",
        "        return output\n",
        "\n",
        "\n"
      ]
    },
    {
      "cell_type": "code",
      "execution_count": 17,
      "metadata": {
        "id": "WSYr3VyDyS5y"
      },
      "outputs": [],
      "source": [
        "class EightLayerGCN_with_drop_edge(nn.Module):\n",
        "    def __init__(self, in_features, hidden_features, out_features, dropout=0.0):\n",
        "        super(EightLayerGCN_with_drop_edge, self).__init__()\n",
        "        self.layers = nn.ModuleList()\n",
        "        self.layers.append(GCNLayer_with_drop_edge(in_features, hidden_features, dropout)) #first\n",
        "        for _ in range(6):\n",
        "            self.layers.append(GCNLayer_with_drop_edge(hidden_features, hidden_features, dropout)) # 6 hidden\n",
        "\n",
        "        self.layers.append(GCNLayer_with_drop_edge(hidden_features, out_features, dropout)) # last\n",
        "\n",
        "    def forward(self, input, adjacency_matrix):\n",
        "        x = input\n",
        "        for layer in self.layers[:-1]:  # All layers except the last one\n",
        "            A_drop = calculate_A_drop(adjacency_matrix , 0.4)\n",
        "            x = F.relu(layer(x, A_drop))\n",
        "        A_drop = calculate_A_drop(adjacency_matrix , 0.4)\n",
        "        x = self.layers[-1](x, A_drop)  # Layer wise edge drop\n",
        "        return x"
      ]
    },
    {
      "cell_type": "markdown",
      "metadata": {
        "id": "rrNbfaxSyS5z"
      },
      "source": [
        "## **Evaluation on citeseer**"
      ]
    },
    {
      "cell_type": "code",
      "execution_count": 19,
      "metadata": {
        "outputId": "248be194-eb9f-4283-94d9-cf778e24d2d0",
        "colab": {
          "base_uri": "https://localhost:8080/"
        },
        "id": "3X5QYjTgyS5z"
      },
      "outputs": [
        {
          "metadata": {
            "tags": null
          },
          "name": "stderr",
          "output_type": "stream",
          "text": [
            "<ipython-input-7-ab0d944f8892>:8: RuntimeWarning: divide by zero encountered in power\n",
            "  d_inv_sqrt = np.power(row_sum, -0.5).flatten()\n"
          ]
        },
        {
          "output_type": "stream",
          "name": "stdout",
          "text": [
            " Epoch: 0, Train Loss: 1.7969, Validation Loss: 1.7124 \n",
            " Epoch: 1, Train Loss: 1.7595, Validation Loss: 1.6825 \n",
            " Epoch: 2, Train Loss: 1.7174, Validation Loss: 1.6289 \n",
            " Epoch: 3, Train Loss: 1.6541, Validation Loss: 1.5571 \n",
            " Epoch: 4, Train Loss: 1.5842, Validation Loss: 1.4527 \n",
            " Epoch: 5, Train Loss: 1.4776, Validation Loss: 1.4946 \n",
            " Epoch: 6, Train Loss: 1.4216, Validation Loss: 1.3583 \n",
            " Epoch: 7, Train Loss: 1.3189, Validation Loss: 1.3917 \n",
            " Epoch: 8, Train Loss: 1.3187, Validation Loss: 1.3580 \n",
            " Epoch: 9, Train Loss: 1.2888, Validation Loss: 1.2878 \n",
            " Epoch: 10, Train Loss: 1.1814, Validation Loss: 1.2611 \n",
            " Epoch: 11, Train Loss: 1.1760, Validation Loss: 1.2455 \n",
            " Epoch: 12, Train Loss: 1.1588, Validation Loss: 1.2851 \n",
            " Epoch: 13, Train Loss: 1.1165, Validation Loss: 1.2462 \n",
            " Epoch: 14, Train Loss: 1.0918, Validation Loss: 1.1025 \n",
            " Epoch: 15, Train Loss: 1.0820, Validation Loss: 1.1203 \n",
            " Epoch: 16, Train Loss: 1.0623, Validation Loss: 1.1983 \n",
            " Epoch: 17, Train Loss: 1.0303, Validation Loss: 1.1860 \n",
            " Epoch: 18, Train Loss: 1.0312, Validation Loss: 1.2674 \n",
            "Early stopping at epoch 19 \n",
            "\n",
            "Test Accuracy(eight layer) on citeseer dataset: 0.7353\n"
          ]
        }
      ],
      "source": [
        "import torch.optim as optim\n",
        "torch.manual_seed(1)\n",
        "model = EightLayerGCN_with_drop_edge(in_features =citeseer.num_node_features, hidden_features = 32 , out_features = citeseer_dataset.num_classes ,dropout= 0.0)\n",
        "optimizer = optim.Adam(model.parameters(), lr=0.01, weight_decay=5e-4)\n",
        "criterion = torch.nn.CrossEntropyLoss()\n",
        "\n",
        "# Early stopping parameters\n",
        "patience = 5\n",
        "min_delta = 0.001\n",
        "patience_counter = 0\n",
        "best_loss = float('inf')\n",
        "\n",
        "# Train the best model\n",
        "for epoch in range(200):\n",
        "    A_drop = calculate_A_drop(adjacency_matrix , 0.1)\n",
        "    train_loss = train(model, optimizer, criterion, citeseer , A_drop)\n",
        "    val_loss = validate(model, criterion, citeseer , adjacency_matrix)\n",
        "\n",
        "    # Check for improvement in validation loss\n",
        "    if val_loss < best_loss - min_delta:\n",
        "        best_loss = val_loss\n",
        "        patience_counter = 0\n",
        "    else:\n",
        "        patience_counter += 1\n",
        "        if patience_counter >= patience:\n",
        "            print(f'Early stopping at epoch {epoch} \\n')\n",
        "            break\n",
        "\n",
        "\n",
        "    print(f' Epoch: {epoch}, Train Loss: {train_loss:.4f}, Validation Loss: {val_loss:.4f} ')\n",
        "\n",
        "# Evaluate the model\n",
        "test_accuracy = test(model, criterion, citeseer , adjacency_matrix)\n",
        "print(f'Test Accuracy(eight layer) on citeseer dataset: {test_accuracy:.4f}')"
      ]
    },
    {
      "cell_type": "markdown",
      "source": [
        "## **analyze oversmoothing on 8-layer gcn**"
      ],
      "metadata": {
        "id": "7sJMYT2zSzRQ"
      }
    },
    {
      "cell_type": "code",
      "execution_count": 23,
      "metadata": {
        "id": "qD3uGHPkvATv"
      },
      "outputs": [],
      "source": [
        "class EightLayerGCN_with_drop_edge(nn.Module):\n",
        "    def __init__(self, in_features, hidden_features, out_features, dropout=0.0):\n",
        "        super(EightLayerGCN_with_drop_edge, self).__init__()\n",
        "        self.layers = nn.ModuleList()\n",
        "        self.layers.append(GCNLayer_with_drop_edge(in_features, hidden_features, dropout))\n",
        "        for _ in range(6):\n",
        "            self.layers.append(GCNLayer_with_drop_edge(hidden_features, hidden_features, dropout))\n",
        "        self.layers.append(GCNLayer_with_drop_edge(hidden_features, out_features, dropout))\n",
        "\n",
        "    def forward(self, input, adjacency_matrix):\n",
        "        x = input\n",
        "        layer_outputs = []\n",
        "        for layer in self.layers[:-1]:  # All layers except the last one\n",
        "            A_drop = calculate_A_drop(adjacency_matrix , 0.4)\n",
        "            x = F.relu(layer(x, A_drop))\n",
        "\n",
        "            layer_outputs.append(x)\n",
        "        A_drop = calculate_A_drop(adjacency_matrix , 0.4) # layer wise EDGE_drop\n",
        "        x = self.layers[-1](x, A_drop)\n",
        "        layer_outputs.append(x)\n",
        "        return x, layer_outputs\n"
      ]
    },
    {
      "cell_type": "code",
      "source": [
        "import torch.autograd\n",
        "\n",
        "torch.autograd.set_detect_anomaly(True)\n",
        "\n",
        "def train_with_get_layer_outputs(model, optimizer, criterion, data, adjacency_matrix):\n",
        "    model.train()\n",
        "    optimizer.zero_grad()\n",
        "    out , layer_outputs = model(data.x, adjacency_matrix)  # Pass the adjacency matrix to the model\n",
        "    loss = criterion(out[data.train_mask], data.y[data.train_mask])\n",
        "    loss.backward()\n",
        "    optimizer.step()\n",
        "    return loss.item() , layer_outputs\n",
        "\n",
        "def validate_with_layer_outputs(model, criterion, data , adjacency_matrix):\n",
        "    model.eval()\n",
        "    with torch.no_grad():\n",
        "        out , _ = model(data.x, adjacency_matrix)\n",
        "        val_loss = criterion(out[data.val_mask], data.y[data.val_mask])\n",
        "    return val_loss.item()\n",
        "\n",
        "def test_with_layer_outputs(model, criterion, data , adjacency_matrix):\n",
        "    model.eval()\n",
        "    with torch.no_grad():\n",
        "        out , _ = model(data.x, adjacency_matrix)\n",
        "        _, pred = torch.max(out, dim=1)\n",
        "        correct = float(pred[data.test_mask].eq(data.y[data.test_mask]).sum().item())\n",
        "        acc = correct / data.test_mask.sum().item()\n",
        "    return acc\n"
      ],
      "metadata": {
        "id": "bdQVyDzJ0cgy"
      },
      "execution_count": 24,
      "outputs": []
    },
    {
      "cell_type": "code",
      "execution_count": 25,
      "metadata": {
        "id": "zfSMh-CrxbjA",
        "colab": {
          "base_uri": "https://localhost:8080/"
        },
        "outputId": "0be561dc-f8fa-4487-a785-dae326bcf05f"
      },
      "outputs": [
        {
          "output_type": "stream",
          "name": "stderr",
          "text": [
            "<ipython-input-7-ab0d944f8892>:8: RuntimeWarning: divide by zero encountered in power\n",
            "  d_inv_sqrt = np.power(row_sum, -0.5).flatten()\n"
          ]
        },
        {
          "output_type": "stream",
          "name": "stdout",
          "text": [
            " Epoch: 0, Train Loss: 1.7971 \n",
            " Epoch: 1, Train Loss: 1.7550 \n",
            " Epoch: 2, Train Loss: 1.7218 \n",
            " Epoch: 3, Train Loss: 1.6727 \n",
            " Epoch: 4, Train Loss: 1.5980 \n",
            " Epoch: 5, Train Loss: 1.5434 \n",
            " Epoch: 6, Train Loss: 1.4346 \n",
            " Epoch: 7, Train Loss: 1.3987 \n",
            " Epoch: 8, Train Loss: 1.3565 \n",
            " Epoch: 9, Train Loss: 1.3222 \n",
            " Epoch: 10, Train Loss: 1.2816 \n",
            " Epoch: 11, Train Loss: 1.2642 \n",
            " Epoch: 12, Train Loss: 1.1757 \n",
            " Epoch: 13, Train Loss: 1.1824 \n",
            " Epoch: 14, Train Loss: 1.1412 \n",
            " Epoch: 15, Train Loss: 1.1174 \n",
            " Epoch: 16, Train Loss: 1.0957 \n",
            " Epoch: 17, Train Loss: 1.0766 \n",
            " Epoch: 18, Train Loss: 1.0372 \n",
            " Epoch: 19, Train Loss: 1.0389 \n",
            " Epoch: 20, Train Loss: 1.0131 \n",
            " Epoch: 21, Train Loss: 1.0167 \n",
            " Epoch: 22, Train Loss: 0.9733 \n",
            " Epoch: 23, Train Loss: 0.9775 \n",
            " Epoch: 24, Train Loss: 0.9763 \n",
            " Epoch: 25, Train Loss: 0.9509 \n",
            " Epoch: 26, Train Loss: 0.9341 \n",
            " Epoch: 27, Train Loss: 0.9073 \n",
            " Epoch: 28, Train Loss: 0.9210 \n",
            " Epoch: 29, Train Loss: 0.8941 \n",
            " Epoch: 30, Train Loss: 0.8687 \n",
            " Epoch: 31, Train Loss: 0.8816 \n",
            " Epoch: 32, Train Loss: 0.9100 \n",
            " Epoch: 33, Train Loss: 0.8498 \n",
            " Epoch: 34, Train Loss: 0.8998 \n",
            " Epoch: 35, Train Loss: 0.8411 \n",
            " Epoch: 36, Train Loss: 0.8215 \n",
            " Epoch: 37, Train Loss: 0.8319 \n",
            " Epoch: 38, Train Loss: 0.8424 \n",
            " Epoch: 39, Train Loss: 0.8461 \n",
            " Epoch: 40, Train Loss: 0.8270 \n",
            " Epoch: 41, Train Loss: 0.8243 \n",
            " Epoch: 42, Train Loss: 0.7978 \n",
            " Epoch: 43, Train Loss: 0.7752 \n",
            " Epoch: 44, Train Loss: 0.7961 \n",
            " Epoch: 45, Train Loss: 0.7793 \n",
            " Epoch: 46, Train Loss: 0.7774 \n",
            " Epoch: 47, Train Loss: 0.7592 \n",
            " Epoch: 48, Train Loss: 0.7490 \n",
            " Epoch: 49, Train Loss: 0.7551 \n",
            " Epoch: 50, Train Loss: 0.7141 \n",
            " Epoch: 51, Train Loss: 0.7974 \n",
            " Epoch: 52, Train Loss: 0.7256 \n",
            " Epoch: 53, Train Loss: 0.7077 \n",
            " Epoch: 54, Train Loss: 0.7554 \n",
            " Epoch: 55, Train Loss: 0.7084 \n",
            " Epoch: 56, Train Loss: 0.7309 \n",
            " Epoch: 57, Train Loss: 0.6916 \n",
            " Epoch: 58, Train Loss: 0.7114 \n",
            " Epoch: 59, Train Loss: 0.6806 \n",
            " Epoch: 60, Train Loss: 0.6732 \n",
            " Epoch: 61, Train Loss: 0.6679 \n",
            " Epoch: 62, Train Loss: 0.6929 \n",
            " Epoch: 63, Train Loss: 0.6874 \n",
            " Epoch: 64, Train Loss: 0.6686 \n",
            " Epoch: 65, Train Loss: 0.6866 \n",
            " Epoch: 66, Train Loss: 0.6471 \n",
            " Epoch: 67, Train Loss: 0.6724 \n",
            " Epoch: 68, Train Loss: 0.6515 \n",
            " Epoch: 69, Train Loss: 0.6722 \n",
            " Epoch: 70, Train Loss: 0.6192 \n",
            " Epoch: 71, Train Loss: 0.6300 \n",
            " Epoch: 72, Train Loss: 0.6610 \n",
            " Epoch: 73, Train Loss: 0.6249 \n",
            " Epoch: 74, Train Loss: 0.6331 \n",
            " Epoch: 75, Train Loss: 0.6290 \n",
            " Epoch: 76, Train Loss: 0.6437 \n",
            " Epoch: 77, Train Loss: 0.6122 \n",
            " Epoch: 78, Train Loss: 0.6034 \n",
            " Epoch: 79, Train Loss: 0.6100 \n",
            " Epoch: 80, Train Loss: 0.6196 \n",
            " Epoch: 81, Train Loss: 0.5933 \n",
            " Epoch: 82, Train Loss: 0.6019 \n",
            " Epoch: 83, Train Loss: 0.5934 \n",
            " Epoch: 84, Train Loss: 0.5855 \n",
            " Epoch: 85, Train Loss: 0.5943 \n",
            " Epoch: 86, Train Loss: 0.5809 \n",
            " Epoch: 87, Train Loss: 0.5827 \n",
            " Epoch: 88, Train Loss: 0.5962 \n",
            " Epoch: 89, Train Loss: 0.6184 \n",
            " Epoch: 90, Train Loss: 0.6052 \n",
            " Epoch: 91, Train Loss: 0.6073 \n",
            " Epoch: 92, Train Loss: 0.5815 \n",
            " Epoch: 93, Train Loss: 0.6344 \n",
            " Epoch: 94, Train Loss: 0.5937 \n",
            " Epoch: 95, Train Loss: 0.5815 \n",
            " Epoch: 96, Train Loss: 0.5812 \n",
            " Epoch: 97, Train Loss: 0.5667 \n",
            " Epoch: 98, Train Loss: 0.5796 \n",
            " Epoch: 99, Train Loss: 0.5966 \n",
            " Epoch: 100, Train Loss: 0.5579 \n",
            " Epoch: 101, Train Loss: 0.5800 \n",
            " Epoch: 102, Train Loss: 0.5880 \n",
            " Epoch: 103, Train Loss: 0.5790 \n",
            " Epoch: 104, Train Loss: 0.5749 \n",
            " Epoch: 105, Train Loss: 0.5649 \n",
            " Epoch: 106, Train Loss: 0.5624 \n",
            " Epoch: 107, Train Loss: 0.5559 \n",
            " Epoch: 108, Train Loss: 0.5743 \n",
            " Epoch: 109, Train Loss: 0.5547 \n",
            " Epoch: 110, Train Loss: 0.5683 \n",
            " Epoch: 111, Train Loss: 0.5691 \n",
            " Epoch: 112, Train Loss: 0.5515 \n",
            " Epoch: 113, Train Loss: 0.5501 \n",
            " Epoch: 114, Train Loss: 0.5804 \n",
            " Epoch: 115, Train Loss: 0.5676 \n",
            " Epoch: 116, Train Loss: 0.5658 \n",
            " Epoch: 117, Train Loss: 0.5860 \n",
            " Epoch: 118, Train Loss: 0.5992 \n",
            " Epoch: 119, Train Loss: 0.5476 \n",
            " Epoch: 120, Train Loss: 0.5551 \n",
            " Epoch: 121, Train Loss: 0.5541 \n",
            " Epoch: 122, Train Loss: 0.5350 \n",
            " Epoch: 123, Train Loss: 0.6123 \n",
            " Epoch: 124, Train Loss: 0.5372 \n",
            " Epoch: 125, Train Loss: 0.5645 \n",
            " Epoch: 126, Train Loss: 0.5447 \n",
            " Epoch: 127, Train Loss: 0.5380 \n",
            " Epoch: 128, Train Loss: 0.5491 \n",
            " Epoch: 129, Train Loss: 0.5384 \n",
            " Epoch: 130, Train Loss: 0.5464 \n",
            " Epoch: 131, Train Loss: 0.5213 \n",
            " Epoch: 132, Train Loss: 0.5237 \n",
            " Epoch: 133, Train Loss: 0.5406 \n",
            " Epoch: 134, Train Loss: 0.4990 \n",
            " Epoch: 135, Train Loss: 0.5420 \n",
            " Epoch: 136, Train Loss: 0.5453 \n",
            " Epoch: 137, Train Loss: 0.5203 \n",
            " Epoch: 138, Train Loss: 0.5408 \n",
            " Epoch: 139, Train Loss: 0.5080 \n",
            " Epoch: 140, Train Loss: 0.4914 \n",
            " Epoch: 141, Train Loss: 0.5028 \n",
            " Epoch: 142, Train Loss: 0.5019 \n",
            " Epoch: 143, Train Loss: 0.4997 \n",
            " Epoch: 144, Train Loss: 0.4832 \n",
            " Epoch: 145, Train Loss: 0.5057 \n",
            " Epoch: 146, Train Loss: 0.5210 \n",
            " Epoch: 147, Train Loss: 0.5010 \n",
            " Epoch: 148, Train Loss: 0.5059 \n",
            " Epoch: 149, Train Loss: 0.5258 \n"
          ]
        }
      ],
      "source": [
        "torch.manual_seed(1)\n",
        "\n",
        "# Training loop\n",
        "all_layer_outputs = []\n",
        "\n",
        "distances_before_train = []\n",
        "distances_after_train = []\n",
        "model = EightLayerGCN_with_drop_edge(in_features =citeseer.num_node_features, hidden_features = 32 , out_features = citeseer_dataset.num_classes ,dropout= 0.0)\n",
        "optimizer = optim.Adam(model.parameters(), lr=0.01, weight_decay=5e-4)\n",
        "criterion = torch.nn.CrossEntropyLoss()\n",
        "\n",
        "\n",
        "output, layer_outputs = model(citeseer.x, A_drop)\n",
        "all_layer_outputs.append(layer_outputs) # save layer output before train\n",
        "\n",
        "\n",
        "for epoch in range(150):\n",
        "    A_drop = calculate_A_drop(adjacency_matrix , 0.1)\n",
        "    train_loss , layer_outputs = train_with_get_layer_outputs(model, optimizer, criterion, citeseer , A_drop)\n",
        "    print(f' Epoch: {epoch}, Train Loss: {train_loss:.4f} ')\n",
        "\n",
        "output, layer_outputs = model(citeseer.x, A_drop)\n",
        "all_layer_outputs.append(layer_outputs) # save layer output after train\n",
        "\n",
        "\n"
      ]
    },
    {
      "cell_type": "code",
      "source": [
        "import matplotlib.pyplot as plt\n",
        "\n",
        "def plot_mean_distances(all_layer_outputs, start_index=2, end_index=7):\n",
        "    distances = []\n",
        "    distances_before_train = []\n",
        "    distances_after_train = []\n",
        "    layer_outputs_before_train = all_layer_outputs[0]\n",
        "\n",
        "    layer_outputs_after_train = all_layer_outputs[-1]\n",
        "\n",
        "    for i in range(1 , 6):\n",
        "\n",
        "        layer1 = layer_outputs_before_train[i]\n",
        "        layer2 = layer_outputs_before_train[i+1]\n",
        "        distance = torch.cdist(layer1, layer2, p=2)\n",
        "        mean_distance = distance.mean().item()\n",
        "        distances_before_train.append(mean_distance)\n",
        "\n",
        "\n",
        "    for i in range(1 , 6):\n",
        "\n",
        "        layer1 = layer_outputs_after_train[i]\n",
        "        layer2 = layer_outputs_after_train[i+1]\n",
        "        distance = torch.cdist(layer1, layer2, p=2)\n",
        "        mean_distance = distance.mean().item()\n",
        "        distances_after_train.append(mean_distance)\n",
        "    print(distances_before_train)\n",
        "    print(distances_after_train)\n",
        "    # Plotting the mean distances\n",
        "    plt.figure(figsize=(15,  6))\n",
        "    plt.semilogy(range(start_index, end_index), distances_before_train, marker='o', label='Before Training')\n",
        "    plt.semilogy(range(start_index, end_index), distances_after_train, marker='o', label='After Training(after 150 epoch)')\n",
        "    plt.title('Mean Euclidean Distances Between Consecutive Layers')\n",
        "    plt.xlabel('Layer')\n",
        "    plt.ylabel('Mean Distance')\n",
        "    plt.xticks(range(start_index, end_index))\n",
        "    plt.legend()  # Added legend to distinguish between before and after training\n",
        "    plt.grid(True)\n",
        "    plt.show()"
      ],
      "metadata": {
        "id": "ue1EjAZgbEzS"
      },
      "execution_count": 28,
      "outputs": []
    },
    {
      "cell_type": "code",
      "source": [
        "plot_mean_distances(all_layer_outputs)"
      ],
      "metadata": {
        "id": "ZSKX3P9iazV6",
        "colab": {
          "base_uri": "https://localhost:8080/",
          "height": 599
        },
        "outputId": "f46641c8-31ea-42f2-cf13-c9e365b3adc3"
      },
      "execution_count": 29,
      "outputs": [
        {
          "output_type": "stream",
          "name": "stdout",
          "text": [
            "[1.6609469652175903, 1.3601055145263672, 0.9053160548210144, 0.6943444013595581, 0.5113979578018188]\n",
            "[5.193873882293701, 9.422052383422852, 17.31721305847168, 28.869070053100586, 41.13766860961914]\n"
          ]
        },
        {
          "output_type": "display_data",
          "data": {
            "text/plain": [
              "<Figure size 1500x600 with 1 Axes>"
            ],
            "image/png": "[encoded data removed]"
          },
          "metadata": {}
        }
      ]
    }
  ],
  "metadata": {
    "colab": {
      "provenance": [],
      "toc_visible": true
    },
    "kernelspec": {
      "display_name": "Python 3",
      "name": "python3"
    },
    "language_info": {
      "name": "python"
    }
  },
  "nbformat": 4,
  "nbformat_minor": 0
}