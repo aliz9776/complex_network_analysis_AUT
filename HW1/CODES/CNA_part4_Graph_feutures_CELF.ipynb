{
  "nbformat": 4,
  "nbformat_minor": 0,
  "metadata": {
    "colab": {
      "provenance": []
    },
    "kernelspec": {
      "name": "python3",
      "display_name": "Python 3"
    },
    "language_info": {
      "name": "python"
    }
  },
  "cells": [
    {
      "cell_type": "markdown",
      "source": [
        "a)make facebook social network graph"
      ],
      "metadata": {
        "id": "Kxc2tInxA7CG"
      }
    },
    {
      "cell_type": "code",
      "execution_count": 1,
      "metadata": {
        "colab": {
          "base_uri": "https://localhost:8080/"
        },
        "id": "INHjs_ht8P1b",
        "outputId": "1de95903-1060-4208-9f5d-fc43b29c6630"
      },
      "outputs": [
        {
          "output_type": "stream",
          "name": "stdout",
          "text": [
            "The graph has 4039 nodes and 88234 edges.\n"
          ]
        }
      ],
      "source": [
        "import networkx as nx\n",
        "import pandas as pd\n",
        "\n",
        "# Load the data from the file\n",
        "df = pd.read_csv('facebook_combined.txt', sep=\" \", header=None)\n",
        "df.columns = [\"origin\", \"destination\"]\n",
        "\n",
        "# Create the graph from the dataframe\n",
        "G = nx.from_pandas_edgelist(df, 'origin', 'destination')\n",
        "\n",
        "# Get the number of nodes and edges in the graph\n",
        "num_nodes = G.number_of_nodes()\n",
        "num_edges = G.number_of_edges()\n",
        "\n",
        "print(f\"The graph has {num_nodes} nodes and {num_edges} edges.\")\n"
      ]
    },
    {
      "cell_type": "markdown",
      "source": [
        "b) make 10 realization from graph"
      ],
      "metadata": {
        "id": "h0bJWSOdBLsm"
      }
    },
    {
      "cell_type": "code",
      "source": [
        "import numpy as np\n",
        "\n",
        "np.random.seed(0)\n",
        "\n",
        "realizations = []\n",
        "for _ in range(10):\n",
        "\n",
        "    G_copy = G.copy()\n",
        "\n",
        "\n",
        "    for edge in G_copy.edges():\n",
        "\n",
        "        rand_num = np.random.rand()\n",
        "\n",
        "\n",
        "        if rand_num > 0.1:\n",
        "            G_copy.remove_edge(*edge)\n",
        "\n",
        "    # Add the realization to the list\n",
        "    realizations.append(G_copy)\n",
        "\n"
      ],
      "metadata": {
        "id": "qZtpG2IWA0o3"
      },
      "execution_count": 2,
      "outputs": []
    },
    {
      "cell_type": "code",
      "source": [
        "# Print the number of edges and nodes for each realization\n",
        "for i, realization in enumerate(realizations):\n",
        "    num_nodes = realization.number_of_nodes()\n",
        "    num_edges = realization.number_of_edges()\n",
        "    print(f\"Realization {i+1}: {num_nodes} nodes, {num_edges} edges\")"
      ],
      "metadata": {
        "colab": {
          "base_uri": "https://localhost:8080/"
        },
        "id": "OZa2cH4zk9Yl",
        "outputId": "3e20193d-c48e-44c8-8626-3785ed7dce0d"
      },
      "execution_count": 3,
      "outputs": [
        {
          "output_type": "stream",
          "name": "stdout",
          "text": [
            "Realization 1: 4039 nodes, 8933 edges\n",
            "Realization 2: 4039 nodes, 8803 edges\n",
            "Realization 3: 4039 nodes, 8920 edges\n",
            "Realization 4: 4039 nodes, 8993 edges\n",
            "Realization 5: 4039 nodes, 8878 edges\n",
            "Realization 6: 4039 nodes, 8655 edges\n",
            "Realization 7: 4039 nodes, 8934 edges\n",
            "Realization 8: 4039 nodes, 8747 edges\n",
            "Realization 9: 4039 nodes, 8650 edges\n",
            "Realization 10: 4039 nodes, 8842 edges\n"
          ]
        }
      ]
    },
    {
      "cell_type": "markdown",
      "source": [
        "c) calculate f(s) for top 8 node and for 8 random node"
      ],
      "metadata": {
        "id": "HjlxrabAL503"
      }
    },
    {
      "cell_type": "code",
      "source": [
        "# Get the degrees of all nodes in the graph\n",
        "degrees = G.degree()\n",
        "\n",
        "# Sort the nodes by degree in descending order\n",
        "sorted_nodes = sorted(degrees, key=lambda x: x[1], reverse=True)\n",
        "\n",
        "# Select the top 8 nodes\n",
        "top_nodes = [node for node, degree in sorted_nodes[:8]]\n",
        "\n",
        "print(f\"The top 8 nodes with the highest degree are: {top_nodes}\")\n"
      ],
      "metadata": {
        "colab": {
          "base_uri": "https://localhost:8080/"
        },
        "id": "uGETN4gcMD_G",
        "outputId": "bce1aca8-6c30-41fd-e3f3-32ab5c50202b"
      },
      "execution_count": 4,
      "outputs": [
        {
          "output_type": "stream",
          "name": "stdout",
          "text": [
            "The top 8 nodes with the highest degree are: [107, 1684, 1912, 3437, 0, 2543, 2347, 1888]\n"
          ]
        }
      ]
    },
    {
      "cell_type": "code",
      "source": [
        "import random\n",
        "\n",
        "# Get all nodes in the graph\n",
        "all_nodes = list(G.nodes())\n",
        "\n",
        "random.seed(42)\n",
        "# Randomly select 8 nodes\n",
        "random_nodes = random.sample(all_nodes, 8)\n",
        "\n",
        "print(f\"8 randomly selected nodes are: {random_nodes}\")\n"
      ],
      "metadata": {
        "colab": {
          "base_uri": "https://localhost:8080/"
        },
        "id": "OddKblSMMK9Z",
        "outputId": "983ebb4f-f0a4-4fcf-9d11-1449db2c689d"
      },
      "execution_count": 6,
      "outputs": [
        {
          "output_type": "stream",
          "name": "stdout",
          "text": [
            "8 randomly selected nodes are: [3078, 970, 102, 2049, 1640, 1517, 1428, 1085]\n"
          ]
        }
      ]
    },
    {
      "cell_type": "code",
      "source": [
        "def influence_spread(S, realizations):\n",
        "    total = 0\n",
        "    for G in realizations:\n",
        "        visited = {node: False for node in G.nodes()}\n",
        "        for node in S:\n",
        "            if not visited[node]:\n",
        "                for reachable_node in nx.bfs_tree(G, node):\n",
        "                    visited[reachable_node] = True\n",
        "        total += sum(visited.values())\n",
        "    return total / len(realizations)\n"
      ],
      "metadata": {
        "id": "FjQnKCHKMALd"
      },
      "execution_count": 7,
      "outputs": []
    },
    {
      "cell_type": "code",
      "source": [
        "f_value_top_nodes = influence_spread(top_nodes, realizations)\n",
        "f_value_random_nodes = influence_spread(random_nodes, realizations)\n",
        "\n",
        "print(f\"The value of f(S) for the top nodes is: {f_value_top_nodes}\")\n",
        "print(f\"The value of f(S) for the random nodes is: {f_value_random_nodes}\")\n"
      ],
      "metadata": {
        "colab": {
          "base_uri": "https://localhost:8080/"
        },
        "id": "S9nBsMXVMB2d",
        "outputId": "309479c5-1919-4fca-d85d-6e0b28875d03"
      },
      "execution_count": 8,
      "outputs": [
        {
          "output_type": "stream",
          "name": "stdout",
          "text": [
            "The value of f(S) for the top nodes is: 2956.3\n",
            "The value of f(S) for the random nodes is: 2943.0\n"
          ]
        }
      ]
    },
    {
      "cell_type": "markdown",
      "source": [
        "d) celf"
      ],
      "metadata": {
        "id": "cQruj1jEMrrO"
      }
    },
    {
      "cell_type": "code",
      "source": [
        "import heapq\n",
        "from tqdm import tqdm\n",
        "\n",
        "# Lazy hill climbing within CELF algorithm for benefit-cost greedy approach\n",
        "def celf_unit_cost(realizations):\n",
        "  count = 0\n",
        "  S_prime = []\n",
        "  marginal_gains = []\n",
        "  influence_spread_sorted = []\n",
        "  # Initialize the min heap\n",
        "  min_heap = []\n",
        "  for k in tqdm(range(8), desc=\"Building solution(unit cost)\"):\n",
        "    if k==0 :\n",
        "      # Calculate the marginal gain for each node\n",
        "      for node in G.nodes():\n",
        "\n",
        "        if node not in S_prime:\n",
        "            S_prime.append(node)\n",
        "            gain = influence_spread(S_prime, realizations)\n",
        "            S_prime.remove(node)\n",
        "            influence_spread_sorted.append(( node , gain ))\n",
        "\n",
        "      influence_spread_sorted.sort(key=lambda x: x[1] ,reverse=True)\n",
        "\n",
        "      marginal_gains.append(influence_spread_sorted[0][1])\n",
        "\n",
        "      S_prime.append(influence_spread_sorted[0][0])\n",
        "\n",
        "      del influence_spread_sorted[0]\n",
        "\n",
        "      spread = influence_spread_sorted[0][1]\n",
        "\n",
        "    else:\n",
        "\n",
        "      while True :\n",
        "\n",
        "        top_currnet_node = influence_spread_sorted[0][0]\n",
        "\n",
        "        #calculate and replacce influence spread for new node with updated selected nodes\n",
        "\n",
        "        S_prime.append(top_currnet_node)\n",
        "        gain = influence_spread(S_prime, realizations) - spread\n",
        "        S_prime.remove(top_currnet_node)\n",
        "\n",
        "        #replace vlaue of influnce spread in the sorted list\n",
        "\n",
        "        influence_spread_sorted[0] = (top_currnet_node , gain)\n",
        "\n",
        "        influence_spread_sorted.sort(key=lambda x: x[1] ,reverse=True)\n",
        "\n",
        "        if top_currnet_node == influence_spread_sorted[0][0] :\n",
        "\n",
        "          break\n",
        "\n",
        "      S_prime.append(influence_spread_sorted[0][0])\n",
        "\n",
        "      spread += influence_spread_sorted[0][0]\n",
        "\n",
        "      del influence_spread_sorted[0]\n",
        "\n",
        "  return S_prime\n"
      ],
      "metadata": {
        "id": "6VOdI8G4QS7s"
      },
      "execution_count": 61,
      "outputs": []
    },
    {
      "cell_type": "code",
      "source": [
        "import time\n",
        "\n",
        "start_time = time.time()\n",
        "\n",
        "S_prime = celf_unit_cost(realizations)\n",
        "\n",
        "end_time = time.time()\n",
        "\n",
        "execution_time_of_celf_unitcost = end_time - start_time"
      ],
      "metadata": {
        "colab": {
          "base_uri": "https://localhost:8080/"
        },
        "id": "ba7JAPkfgzxt",
        "outputId": "68fc48f7-2a1b-444e-98d0-302f7a451d8c"
      },
      "execution_count": 64,
      "outputs": [
        {
          "output_type": "stream",
          "name": "stderr",
          "text": [
            "Building solution(unit cost): 100%|██████████| 8/8 [2:21:04<00:00, 1058.01s/it]\n"
          ]
        }
      ]
    },
    {
      "cell_type": "code",
      "source": [
        "print(f\"The value of f(S) for the celf is:{influence_spread(S_prime, realizations)}\" )\n",
        "print(f\" S_prime : { S_prime } \")"
      ],
      "metadata": {
        "colab": {
          "base_uri": "https://localhost:8080/"
        },
        "id": "N9FF5low4t6c",
        "outputId": "7232cd0c-dae5-48b9-b84b-6c81f0e389be"
      },
      "execution_count": 65,
      "outputs": [
        {
          "output_type": "stream",
          "name": "stdout",
          "text": [
            "The value of f(S) for the celf is:3074.1\n",
            " S_prime : [107, 803, 187, 3980, 4017, 3538, 3008, 3155] \n"
          ]
        }
      ]
    }
  ]
}