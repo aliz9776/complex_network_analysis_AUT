{
  "nbformat": 4,
  "nbformat_minor": 0,
  "metadata": {
    "colab": {
      "provenance": []
    },
    "kernelspec": {
      "name": "python3",
      "display_name": "Python 3"
    },
    "language_info": {
      "name": "python"
    }
  },
  "cells": [
    {
      "cell_type": "markdown",
      "source": [
        "**load graph**"
      ],
      "metadata": {
        "id": "hhBXJ4G9xv4u"
      }
    },
    {
      "cell_type": "code",
      "execution_count": 1,
      "metadata": {
        "id": "P8AHbatfxYxy"
      },
      "outputs": [],
      "source": [
        "\n",
        "graph = {}\n",
        "with open('out.dimacs10-polbooks', 'r') as f:\n",
        "    next(f) # skip the header line\n",
        "    for line in f:\n",
        "        u, v = map(int, line.split())\n",
        "        if u not in graph:\n",
        "            graph[u] = set()\n",
        "        if v not in graph:\n",
        "            graph[v] = set()\n",
        "        graph[u].add(v)\n",
        "        graph[v].add(u) # add the reverse edge because the graph is undirected\n"
      ]
    },
    {
      "cell_type": "code",
      "source": [
        "print(graph)"
      ],
      "metadata": {
        "colab": {
          "base_uri": "https://localhost:8080/"
        },
        "id": "cRKw114Tx7w1",
        "outputId": "3625225b-4aec-490b-e92d-d81c325106a7"
      },
      "execution_count": 2,
      "outputs": [
        {
          "output_type": "stream",
          "name": "stdout",
          "text": [
            "{1: {2, 3, 4, 5, 6, 7}, 2: {1, 4, 6, 7}, 3: {8, 1, 5, 6}, 4: {1, 2, 6, 9, 10, 11, 12, 13, 14, 15, 16, 17, 18, 19, 20, 21, 22, 23, 24, 25, 26, 27, 28}, 5: {32, 1, 3, 6, 7, 29, 30, 31}, 6: {1, 2, 3, 4, 5, 7, 8}, 7: {1, 2, 5, 6, 8, 11, 13, 19, 23, 26, 30}, 8: {33, 34, 3, 35, 6, 7, 15, 31}, 9: {4, 10, 11, 12, 13, 14, 15, 21, 22, 23, 24, 25, 27, 28, 36, 37, 38, 39, 40, 41, 42, 43, 44, 45, 46}, 10: {4, 9, 41, 12, 13, 45, 15, 47, 48, 49, 50, 51, 21, 52, 25, 28}, 11: {4, 37, 38, 7, 39, 9, 12, 13, 16, 17, 20, 53, 22, 54, 55}, 12: {4, 9, 10, 11, 13, 14, 15, 45, 47, 18, 50, 21, 22, 23, 56, 27, 28, 30}, 13: {4, 7, 9, 10, 11, 12, 14, 15, 16, 18, 19, 24, 25, 36, 37, 40, 41, 44, 46, 47, 53, 54, 55, 57, 58}, 14: {4, 36, 40, 9, 42, 43, 12, 13, 44, 47, 18, 59, 30}, 15: {33, 4, 8, 9, 10, 12, 13, 26, 27}, 16: {4, 11, 13, 17, 55}, 17: {16, 11, 4}, 18: {4, 12, 13, 14, 47}, 19: {4, 13, 7}, 20: {4, 11, 55, 56, 60}, 21: {4, 40, 9, 10, 12, 48, 49, 25, 59, 61}, 22: {4, 9, 11, 12, 24}, 23: {4, 7, 40, 9, 12, 52, 26}, 24: {4, 36, 37, 9, 13, 47, 22, 58, 28}, 25: {4, 40, 9, 10, 13, 47, 21, 27, 61}, 26: {4, 7, 40, 15, 23}, 27: {4, 40, 9, 12, 45, 15, 47, 25, 61}, 28: {4, 40, 9, 10, 41, 12, 47, 24, 58}, 29: {5, 62, 63}, 30: {12, 5, 14, 7}, 31: {5, 8, 32, 33, 60, 62, 64, 65, 66, 67, 68, 69, 70, 71, 72, 73, 74, 75, 76, 77}, 32: {66, 67, 68, 5, 69, 72, 78, 79, 49, 60, 31}, 33: {35, 8, 15, 49, 50, 51, 52, 82, 83, 85, 84, 60, 31}, 34: {65, 66, 67, 68, 69, 70, 71, 8, 101, 72, 73, 78, 85, 60, 63}, 35: {33, 8, 83, 62, 63}, 36: {37, 9, 13, 14, 24}, 37: {36, 39, 9, 11, 13, 47, 53, 54, 24}, 38: {39, 40, 9, 11, 43, 44, 80, 53, 54, 57}, 39: {37, 38, 9, 11, 47, 80, 53}, 40: {58, 38, 9, 41, 42, 44, 13, 14, 45, 47, 21, 54, 23, 25, 26, 27, 28, 61}, 41: {40, 9, 10, 13, 47, 57, 58, 28}, 42: {40, 9, 43, 14, 47, 54}, 43: {38, 9, 42, 14, 56}, 44: {38, 40, 9, 13, 14}, 45: {40, 9, 10, 12, 47, 27}, 46: {81, 9, 13, 47}, 47: {37, 39, 40, 41, 10, 42, 12, 13, 14, 45, 46, 18, 24, 25, 58, 27, 28, 57}, 48: {49, 10, 59, 21}, 49: {32, 33, 69, 10, 48, 21, 59, 63}, 50: {33, 10, 12}, 51: {33, 10, 82, 83, 52, 84}, 52: {33, 10, 82, 51, 23}, 53: {37, 38, 39, 11, 13, 80, 54}, 54: {37, 38, 40, 42, 11, 13, 80, 53}, 55: {16, 11, 20, 13}, 56: {59, 43, 12, 20}, 57: {38, 41, 13, 47, 80}, 58: {40, 41, 13, 47, 24, 28}, 59: {14, 48, 49, 21, 56}, 60: {32, 33, 34, 68, 69, 20, 31}, 61: {69, 40, 21, 25, 27}, 62: {29, 31, 35, 63, 64, 65, 66, 67, 69, 71, 74, 75, 76, 77, 82, 93, 94, 95, 96, 97, 98}, 63: {29, 34, 35, 49, 62, 65, 66, 67, 68, 69, 70, 71, 72, 74, 75, 78, 79, 94, 95, 96, 102, 103}, 64: {99, 100, 82, 83, 62, 31}, 65: {96, 34, 68, 82, 31, 62, 63}, 66: {31, 32, 34, 62, 63, 67, 68, 72, 73, 74, 75, 76, 77, 91, 93, 95, 97, 98, 103, 104, 105}, 67: {32, 34, 66, 68, 70, 102, 72, 105, 74, 77, 78, 79, 94, 31, 62, 63}, 68: {32, 65, 34, 66, 67, 69, 70, 103, 72, 73, 74, 60, 78, 79, 31, 63}, 69: {32, 34, 68, 72, 73, 74, 75, 49, 63, 60, 61, 62, 31}, 70: {34, 67, 68, 74, 79, 31, 93, 63}, 71: {34, 63, 62, 31}, 72: {32, 34, 66, 67, 68, 69, 74, 31, 63}, 73: {34, 66, 68, 69, 102, 74, 93, 31}, 74: {31, 62, 63, 66, 67, 68, 69, 70, 72, 73, 75, 77, 87, 89, 92, 93, 94, 95, 97, 98, 101, 102, 104}, 75: {66, 98, 69, 101, 74, 76, 92, 95, 87, 88, 31, 93, 62, 63}, 76: {66, 104, 75, 77, 81, 62, 31}, 77: {96, 66, 67, 74, 76, 86, 87, 89, 90, 93, 62, 31}, 78: {32, 34, 67, 68, 63}, 79: {32, 96, 67, 68, 70, 105, 93, 63}, 80: {38, 39, 53, 54, 57}, 81: {104, 91, 76, 46}, 82: {64, 33, 65, 83, 51, 52, 85, 84, 62}, 83: {64, 33, 35, 82, 51, 84, 85}, 84: {33, 100, 82, 83, 51}, 85: {33, 82, 83, 34}, 86: {77, 87, 88, 89, 90}, 87: {74, 75, 77, 86, 89, 90}, 88: {91, 75, 92, 86}, 89: {74, 77, 86, 87, 90, 93}, 90: {89, 77, 86, 87}, 91: {88, 81, 66, 104}, 92: {104, 74, 75, 88, 93}, 93: {97, 66, 70, 73, 74, 75, 105, 77, 79, 89, 92, 62}, 94: {67, 74, 63, 62, 95}, 95: {66, 74, 75, 94, 62, 63}, 96: {65, 77, 79, 62, 63}, 97: {66, 98, 104, 74, 93, 62}, 98: {97, 66, 101, 74, 75, 62}, 99: {64, 100}, 100: {64, 99, 84}, 101: {34, 75, 74, 98}, 102: {67, 73, 74, 105, 63}, 103: {66, 68, 63}, 104: {97, 66, 74, 76, 81, 91, 92}, 105: {66, 67, 102, 79, 93}}\n"
          ]
        }
      ]
    },
    {
      "cell_type": "markdown",
      "source": [
        "**degree matrix**"
      ],
      "metadata": {
        "id": "2S_UXUAoHV-t"
      }
    },
    {
      "cell_type": "code",
      "source": [
        "import numpy as np\n",
        "\n",
        "size = len(graph)\n",
        "\n",
        "degree_matrix = np.zeros((size, size))\n",
        "for i, node in enumerate(graph.keys()):\n",
        "       degree_matrix[i][i] = len(graph[node])\n"
      ],
      "metadata": {
        "colab": {
          "base_uri": "https://localhost:8080/"
        },
        "id": "CS1S9_p4FpmW",
        "outputId": "f23e5fa3-c7f6-47da-f1cd-953676359112"
      },
      "execution_count": 3,
      "outputs": [
        {
          "output_type": "stream",
          "name": "stdout",
          "text": [
            "105\n"
          ]
        }
      ]
    },
    {
      "cell_type": "code",
      "source": [
        "display(degree_matrix)"
      ],
      "metadata": {
        "colab": {
          "base_uri": "https://localhost:8080/",
          "height": 139
        },
        "id": "clJkhl6pFqJW",
        "outputId": "4b3cae01-b4f4-4c4d-b08d-846fc5aa2e35"
      },
      "execution_count": 4,
      "outputs": [
        {
          "output_type": "display_data",
          "data": {
            "text/plain": [
              "array([[6., 0., 0., ..., 0., 0., 0.],\n",
              "       [0., 4., 0., ..., 0., 0., 0.],\n",
              "       [0., 0., 4., ..., 0., 0., 0.],\n",
              "       ...,\n",
              "       [0., 0., 0., ..., 3., 0., 0.],\n",
              "       [0., 0., 0., ..., 0., 7., 0.],\n",
              "       [0., 0., 0., ..., 0., 0., 5.]])"
            ]
          },
          "metadata": {}
        }
      ]
    },
    {
      "cell_type": "markdown",
      "source": [
        "**adjacency matrix**"
      ],
      "metadata": {
        "id": "aXoXl1faHbG3"
      }
    },
    {
      "cell_type": "code",
      "source": [
        "\n",
        "adjacency_matrix = np.zeros((size, size))\n",
        "\n",
        "for i, node in enumerate(graph.keys()):\n",
        "  for j in graph[node]:\n",
        "      j = j-1\n",
        "      adjacency_matrix[i][j] = 1\n",
        "      adjacency_matrix[j][i] = 1 # add the reverse edge because the graph is undirected"
      ],
      "metadata": {
        "id": "jZsRpj-FHanH"
      },
      "execution_count": 5,
      "outputs": []
    },
    {
      "cell_type": "code",
      "source": [
        "display(adjacency_matrix)"
      ],
      "metadata": {
        "colab": {
          "base_uri": "https://localhost:8080/",
          "height": 139
        },
        "id": "XEJY71H4Iwxl",
        "outputId": "a6bcb8be-cfbf-4fe1-9cec-142c146f4c3d"
      },
      "execution_count": 6,
      "outputs": [
        {
          "output_type": "display_data",
          "data": {
            "text/plain": [
              "array([[0., 1., 1., ..., 0., 0., 0.],\n",
              "       [1., 0., 0., ..., 0., 0., 0.],\n",
              "       [1., 0., 0., ..., 0., 0., 0.],\n",
              "       ...,\n",
              "       [0., 0., 0., ..., 0., 0., 0.],\n",
              "       [0., 0., 0., ..., 0., 0., 0.],\n",
              "       [0., 0., 0., ..., 0., 0., 0.]])"
            ]
          },
          "metadata": {}
        }
      ]
    },
    {
      "cell_type": "markdown",
      "source": [
        "# **laplacian matrix**"
      ],
      "metadata": {
        "id": "9UmwaAc1zLr9"
      }
    },
    {
      "cell_type": "code",
      "source": [
        "laplacian = degree_matrix - adjacency_matrix\n"
      ],
      "metadata": {
        "id": "tnrvwhUs0CeP"
      },
      "execution_count": 7,
      "outputs": []
    },
    {
      "cell_type": "code",
      "source": [
        "print(laplacian)"
      ],
      "metadata": {
        "colab": {
          "base_uri": "https://localhost:8080/"
        },
        "id": "k5gqbzxMJLHQ",
        "outputId": "35098bdf-18f9-42ea-b46a-d1b3c0458684"
      },
      "execution_count": 8,
      "outputs": [
        {
          "output_type": "stream",
          "name": "stdout",
          "text": [
            "[[ 6. -1. -1. ...  0.  0.  0.]\n",
            " [-1.  4.  0. ...  0.  0.  0.]\n",
            " [-1.  0.  4. ...  0.  0.  0.]\n",
            " ...\n",
            " [ 0.  0.  0. ...  3.  0.  0.]\n",
            " [ 0.  0.  0. ...  0.  7.  0.]\n",
            " [ 0.  0.  0. ...  0.  0.  5.]]\n"
          ]
        }
      ]
    },
    {
      "cell_type": "code",
      "source": [
        "import numpy as np\n",
        "\n",
        "# Calculate the eigenvalues and eigenvectors of the Laplacian matrix\n",
        "eigenvalues, eigenvectors = np.linalg.eig(laplacian)\n",
        "\n",
        "print(\"Eigenvalues:\", eigenvalues)\n",
        "print(\"Eigenvectors:\", eigenvectors)\n"
      ],
      "metadata": {
        "colab": {
          "base_uri": "https://localhost:8080/"
        },
        "id": "EglCey9GKADG",
        "outputId": "484b2ee7-4737-4518-f15e-38e2151e4854"
      },
      "execution_count": 9,
      "outputs": [
        {
          "output_type": "stream",
          "name": "stdout",
          "text": [
            "Eigenvalues: [2.65816773e+01 2.60116071e+01 2.40847766e+01 2.43962850e+01\n",
            " 2.34947215e+01 2.26628838e+01 2.17029098e+01 2.09656528e+01\n",
            " 2.00097106e+01 1.90093933e+01 1.86947841e+01 1.74473184e+01\n",
            " 1.67991787e+01 1.67246718e+01 1.57256466e+01 1.56512770e+01\n",
            " 1.53728423e+01 1.40678607e+01 1.34126501e+01 1.32948518e+01\n",
            " 1.28419952e+01 3.05841201e-15 1.21980488e+01 1.18840355e+01\n",
            " 1.17219127e+01 3.23607315e-01 1.12873118e+01 1.10094323e+01\n",
            " 7.64480671e-01 1.06334234e+01 1.01875797e+01 1.01459095e+01\n",
            " 1.39014114e+00 1.60287332e+00 9.62101606e+00 1.81029903e+00\n",
            " 1.89250401e+00 9.31232663e+00 9.08689727e+00 8.88542463e+00\n",
            " 8.80561029e+00 2.10044318e+00 8.64016872e+00 2.17853718e+00\n",
            " 2.63084779e+00 8.55184642e+00 8.45643495e+00 8.36511821e+00\n",
            " 8.37970779e+00 8.17621916e+00 2.76657841e+00 7.84063007e+00\n",
            " 7.79073035e+00 2.84081648e+00 2.88371446e+00 7.61646007e+00\n",
            " 2.96865938e+00 2.88653383e+00 7.52065405e+00 3.09918475e+00\n",
            " 7.45613397e+00 3.27347119e+00 3.33892723e+00 3.30476486e+00\n",
            " 7.15655511e+00 7.04283659e+00 7.02302231e+00 3.62132877e+00\n",
            " 3.63192871e+00 6.87312163e+00 6.08780252e+00 6.74268904e+00\n",
            " 6.80542200e+00 6.34755438e+00 6.40748397e+00 6.50759802e+00\n",
            " 6.45403899e+00 3.71872054e+00 3.80634416e+00 5.81362220e+00\n",
            " 5.76157025e+00 5.72548679e+00 3.92725157e+00 5.62478170e+00\n",
            " 6.81254881e+00 5.45701783e+00 5.40607197e+00 5.29282448e+00\n",
            " 4.45848707e+00 4.39149924e+00 4.07322788e+00 4.34902004e+00\n",
            " 4.22682751e+00 4.24952030e+00 4.02083438e+00 5.02819180e+00\n",
            " 4.80556197e+00 6.57332155e+00 4.73743434e+00 5.05252730e+00\n",
            " 5.08078438e+00 5.17158993e+00 4.28173596e+00 4.73116025e+00\n",
            " 4.13854286e+00]\n",
            "Eigenvectors: [[ 5.11515782e-03 -1.56591607e-02 -4.62083039e-02 ... -1.63216581e-02\n",
            "  -1.06678305e-03 -8.18044295e-05]\n",
            " [ 4.70657866e-03 -1.40961681e-02 -4.08967469e-02 ... -8.98755978e-02\n",
            "   2.48192068e-02  1.23879966e-02]\n",
            " [-6.68464295e-04  1.64324432e-03  4.21736185e-03 ...  4.00109407e-02\n",
            "  -2.46479950e-02  1.20673368e-02]\n",
            " ...\n",
            " [-2.73517199e-05 -3.64069505e-05 -1.48858983e-04 ...  4.76699658e-02\n",
            "   4.08714548e-03  7.67463982e-02]\n",
            " [-9.28459136e-07  1.83330719e-04  8.58860365e-04 ...  6.96849148e-02\n",
            "  -1.06753412e-02  5.92738691e-02]\n",
            " [-4.96074570e-06  1.60886658e-05 -4.78498483e-04 ...  8.29968644e-02\n",
            "   4.94904651e-03  1.78611637e-01]]\n"
          ]
        }
      ]
    },
    {
      "cell_type": "markdown",
      "source": [
        "# **node represantation**"
      ],
      "metadata": {
        "id": "s9sj7PkoD8Kq"
      }
    },
    {
      "cell_type": "code",
      "source": [
        "# Get the second eigenvector\n",
        "second_eigenvector = eigenvectors[:, 1]\n",
        "\n",
        "node_representations = {}\n",
        "\n",
        "\n",
        "for i, node in enumerate(graph.keys()):\n",
        "\n",
        "   node_representations[node] = second_eigenvector[i]\n",
        "\n",
        "\n",
        "print(node_representations)"
      ],
      "metadata": {
        "colab": {
          "base_uri": "https://localhost:8080/"
        },
        "id": "BveZvebXowCz",
        "outputId": "7677caaf-3a51-4e42-9e8e-f7fcac50f1ad"
      },
      "execution_count": 10,
      "outputs": [
        {
          "output_type": "stream",
          "name": "stdout",
          "text": [
            "{1: -0.015659160740925104, 2: -0.01409616814007719, 3: 0.0016432443168877945, 4: 0.30294095445277835, 5: -0.0001205793424006359, 6: -0.016301522934494918, 7: 0.039299044181994904, 8: -0.004089185283318285, 9: -0.7002084135092014, 10: 0.07553146937632642, 11: 0.0632452661887069, 12: 0.09154212988817488, 13: -0.5892468130222152, 14: 0.04850553065406236, 15: 0.04971296863237958, 16: 0.010239616910542938, 17: -0.01635808553624942, 18: 0.007945707022543401, 19: 0.010734009716396677, 20: -0.018412898028481776, 21: 0.004637803339135259, 22: 0.00912661266507997, 23: 0.008853761547670213, 24: 0.050715263348736654, 25: 0.047235693083546845, 26: -0.025119073144921254, 27: 0.005303775428919065, 28: -0.0002666073096853844, 29: -3.151210212498907e-05, 30: -0.008142346191552626, 31: 0.001217648493715403, 32: 0.00014643271828715986, 33: -0.0023523351972703646, 34: 0.00017946933679162912, 35: 0.0002542819231376256, 36: 0.05363366707739472, 37: 0.06330489163614295, 38: 0.021436105702526843, 39: 0.029304180615034734, 40: 0.12698536725800785, 41: 0.059061074923632655, 42: 0.02504595009213209, 43: 0.02902075822913648, 44: 0.05199641402085625, 45: 0.02106475233528211, 46: 0.05964484456402454, 47: -0.020693876199978326, 48: -0.0033642694056529392, 49: -0.004161889314475783, 50: -0.0071581816614234885, 51: -0.003522477441780268, 52: -0.0037642451817553007, 53: 0.021151859937925295, 54: 0.015180920443699678, 55: 0.024267870360570837, 56: -0.004551943097468409, 57: 0.02545254668594196, 58: 0.01866144926850454, 59: -0.0019544070068638134, 60: 0.0009824313615311292, 61: -0.00880531977636204, 62: -0.0006206173444322305, 63: 0.0014663408003738082, 64: -7.136773871870935e-05, 65: -0.00013078828931804105, 66: -0.00032136139637720015, 67: -5.995605431297182e-05, 68: -0.00030719696208774316, 69: 0.0008512805738609322, 70: -9.867392486951238e-05, 71: -0.00010189357253618888, 72: -0.0001400659986906136, 73: -5.2403811557489504e-05, 74: -0.000789909770028193, 75: -0.00019144810676775535, 76: 0.00012850692436816772, 77: 1.910686340072355e-05, 78: -6.782393327143288e-05, 79: -7.067786354261739e-05, 80: -0.005355402504754658, 81: -0.002729782386773143, 82: 0.0005824225674393026, 83: 0.000252925158637365, 84: 0.00024019792122490684, 85: 6.076421986236732e-05, 86: -4.430358484268999e-06, 87: 4.7037916934323836e-05, 88: 1.5671129542482825e-06, 89: 2.9521980944356614e-05, 90: -4.144922372467707e-06, 91: 0.0001302152058060917, 92: 3.1168584788832034e-05, 93: 0.0001415579865662127, 94: -8.918277675250707e-07, 95: 2.2881103067548386e-05, 96: -3.1571319736603675e-05, 97: 6.575123055126618e-05, 98: 9.121201170897342e-05, 99: 3.283710937789171e-06, 100: -7.479438205499378e-06, 101: 3.228644435216274e-05, 102: -2.7611397216654297e-05, 103: -3.640695052876355e-05, 104: 0.00018333071928913248, 105: 1.6088665802471664e-05}\n"
          ]
        }
      ]
    },
    {
      "cell_type": "markdown",
      "source": [
        "# **find best clustering with min cut and modularity**"
      ],
      "metadata": {
        "id": "VT6P8HZTECEG"
      }
    },
    {
      "cell_type": "code",
      "source": [
        "def cut_count(graph, labels):\n",
        "\n",
        "   num_inter_cluster_edges = 0\n",
        "   for i, node in enumerate(graph.keys()):\n",
        "       i += 1\n",
        "       for j in graph[node]:\n",
        "           if labels[i] != labels[j]:\n",
        "               num_inter_cluster_edges += 1\n",
        "   return num_inter_cluster_edges\n"
      ],
      "metadata": {
        "id": "H6tQppHvsmWT"
      },
      "execution_count": 11,
      "outputs": []
    },
    {
      "cell_type": "code",
      "source": [
        "def modularity(A, labels):\n",
        "\n",
        "\n",
        "   node_degrees = np.sum(A, axis=1)\n",
        "\n",
        "\n",
        "   total_edges= np.sum(node_degrees) / 2\n",
        "\n",
        "   #edges within each cluster\n",
        "\n",
        "   cluster_edges  = np.array([np.sum(A[labels == i] * (labels == i).T) for i in range(max(labels) + 1)])\n",
        "\n",
        "   #edges between different clusters\n",
        "\n",
        "   out_cluster_edges = np.sum(A * (labels[:, None] != labels[None, :]).astype(int))\n",
        "\n",
        "   # return  sum of the squares of the ratios of the number of\n",
        "   # edges within each cluster to the total number of edges,\n",
        "   # minus the ratio of the number of edges between different clusters to the total number of edges\n",
        "   return np.sum(cluster_edges**2 / (2 * total_edges)) - out_cluster_edges**2 / (2 * total_edges* total_edges)\n"
      ],
      "metadata": {
        "id": "HUiFEcF2sm1n"
      },
      "execution_count": 12,
      "outputs": []
    },
    {
      "cell_type": "code",
      "source": [
        "import numpy as np\n",
        "\n",
        "def modularity(A, labels):\n",
        "\n",
        "   # Calculate node degrees\n",
        "   node_degrees = np.sum(A, axis=1)\n",
        "\n",
        "   # Calculate total edges\n",
        "   total_edges = np.sum(node_degrees) / 2\n",
        "\n",
        "   # Calculate edges within each cluster\n",
        "   cluster_edges = np.array([np.sum(A[labels == i] * (labels == i).T) for i in range(max(labels) + 1)])\n",
        "\n",
        "   # Calculate edges between different clusters\n",
        "   out_cluster_edges = np.sum(A * (labels[:, None] != labels[None, :]).astype(int))\n",
        "\n",
        "   #  expected edges within each cluster\n",
        "   expected_in_cluster_edges = np.array([np.sum(node_degrees[labels == i] * (node_degrees[labels == i] / total_edges)) for i in range(max(labels) + 1)])\n",
        "\n",
        "   # expected edges between different clusters\n",
        "   expected_out_cluster_edges = np.sum(node_degrees * (node_degrees / total_edges)) - np.sum(expected_in_cluster_edges)\n",
        "\n",
        "   # Calculate modularity\n",
        "   modularity = (1 / (2 * total_edges)) * np.sum((cluster_edges - expected_in_cluster_edges) * (cluster_edges - expected_in_cluster_edges)) - (out_cluster_edges - expected_out_cluster_edges)**2 / (2 * total_edges * total_edges)\n",
        "\n",
        "   return modularity\n"
      ],
      "metadata": {
        "id": "yB3yIg6tFE-g"
      },
      "execution_count": 13,
      "outputs": []
    },
    {
      "cell_type": "code",
      "source": [
        "from sklearn.cluster import KMeans\n",
        "from sklearn.metrics import silhouette_score\n",
        "\n",
        "best_modularity = -np.inf\n",
        "best_min_cut = np.inf\n",
        "best_k_modularity = None\n",
        "best_k_min_cut = None\n",
        "\n",
        "for k in range(2, 11):\n",
        "\n",
        " # Perform KMeans clustering\n",
        " kmeans = KMeans(n_clusters=k , n_init='auto' , random_state=0)\n",
        " label_values = kmeans.fit_predict(eigenvectors)\n",
        "\n",
        "\n",
        " labels_dict = {node: label for node, label in zip(graph.keys(), label_values)}\n",
        "\n",
        " modularity_score = modularity(adjacency_matrix, label_values)\n",
        "\n",
        " # Calculate the number of inter-cluster edges\n",
        " cut = cut_count(graph, labels_dict)\n",
        "\n",
        "# find best k for modularity\n",
        " if modularity_score > best_modularity:\n",
        "    best_modularity = modularity_score\n",
        "    best_k_modularity = k\n",
        "\n",
        "# find best k for min-cut\n",
        " if cut < best_min_cut:\n",
        "    best_min_cut = cut\n",
        "    best_k_min_cut = k\n",
        "\n",
        "print(f\"Best k for modularity: {best_k_modularity}, Best Modularity: {best_modularity}\")\n",
        "print(f\"Best k for min cut: {best_k_min_cut}, Best Cut: {best_min_cut}\")\n"
      ],
      "metadata": {
        "colab": {
          "base_uri": "https://localhost:8080/"
        },
        "id": "GkfDsTXDspQJ",
        "outputId": "b46f6954-f7df-4f06-e955-8c62cabc6cc0"
      },
      "execution_count": 15,
      "outputs": [
        {
          "output_type": "stream",
          "name": "stdout",
          "text": [
            "Best k for modularity: 6, Best Modularity: 524.1457965785816\n",
            "Best k for min cut: 6, Best Cut: 180\n"
          ]
        }
      ]
    }
  ]
}